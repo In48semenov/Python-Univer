{
 "cells": [
  {
   "cell_type": "markdown",
   "metadata": {},
   "source": [
    "## Задания по семинару 2 (ДЗ)"
   ]
  },
  {
   "cell_type": "markdown",
   "metadata": {},
   "source": [
    "В ячеке под заданием приведите его решение. Для заданий, рассмотренных на семинаре, можете использовать решение полученное на занятии."
   ]
  },
  {
   "cell_type": "markdown",
   "metadata": {},
   "source": [
    "-----"
   ]
  },
  {
   "cell_type": "markdown",
   "metadata": {},
   "source": [
    "0) Получить переменную, содержащую строку со значением равным двум в одиннадцатой степени и вывести ее на экран."
   ]
  },
  {
   "cell_type": "code",
   "execution_count": 2,
   "metadata": {},
   "outputs": [
    {
     "name": "stdout",
     "output_type": "stream",
     "text": [
      "2048\n"
     ]
    }
   ],
   "source": [
    "s=2**11\n",
    "print(str(s))"
   ]
  },
  {
   "cell_type": "markdown",
   "metadata": {},
   "source": [
    "1) Наибольшим количеством способов создать строковую переменную, содержащую текст:"
   ]
  },
  {
   "cell_type": "raw",
   "metadata": {},
   "source": [
    "It's \"quoted string\""
   ]
  },
  {
   "cell_type": "code",
   "execution_count": 7,
   "metadata": {},
   "outputs": [
    {
     "name": "stdout",
     "output_type": "stream",
     "text": [
      "It's \"quoted string\"\n",
      "It's \"quoted string\"\n",
      "It's \"quoted string\"\n"
     ]
    }
   ],
   "source": [
    "a='''It's \"quoted string\"'''\n",
    "print(a)\n",
    "a1=\"It's\" + ''' \"quoted''' + ''' string\"'''\n",
    "print(a1)\n",
    "a2=' '.join(['''It's''',  '''\"quoted''', '''string\"'''])\n",
    "print(a2)"
   ]
  },
  {
   "cell_type": "markdown",
   "metadata": {},
   "source": [
    "2) Наибольшим количеством способов создать строковую переменную, содержащую текст:"
   ]
  },
  {
   "cell_type": "raw",
   "metadata": {},
   "source": [
    "line1\n",
    "\n",
    "line2\n",
    "\n",
    "line3"
   ]
  },
  {
   "cell_type": "code",
   "execution_count": 12,
   "metadata": {},
   "outputs": [
    {
     "name": "stdout",
     "output_type": "stream",
     "text": [
      "line1 \n",
      "line2 \n",
      "line3\n",
      "\n",
      "line1\n",
      "line2\n",
      "line3\n"
     ]
    }
   ],
   "source": [
    "a=\"line1 \\nline2 \\nline3\"\n",
    "print(a)\n",
    "print('''\n",
    "line1\n",
    "line2\n",
    "line3''')\n"
   ]
  },
  {
   "cell_type": "markdown",
   "metadata": {},
   "source": [
    "3) Наибольшим количеством способов создать строковую переменную, содержащую текст:"
   ]
  },
  {
   "cell_type": "raw",
   "metadata": {},
   "source": [
    "\\\\\\\\\n",
    "\n",
    "\\\\\\\n",
    "\n",
    "\\\\\n",
    "\n",
    "\\"
   ]
  },
  {
   "cell_type": "code",
   "execution_count": 28,
   "metadata": {},
   "outputs": [
    {
     "name": "stdout",
     "output_type": "stream",
     "text": [
      "\\\\\\\\ \n",
      "\\\\\\ \n",
      "\\\\ \n",
      "\\\n"
     ]
    }
   ],
   "source": [
    "a='''\\\\\\\\\\\\\\\\ \n",
    "\\\\\\\\\\\\ \n",
    "\\\\\\\\ \n",
    "\\\\'''\n",
    "print(a)"
   ]
  },
  {
   "cell_type": "markdown",
   "metadata": {},
   "source": [
    "4) Вывести 5й с начала и 5й с конца символ из строки 'Hello world'"
   ]
  },
  {
   "cell_type": "code",
   "execution_count": 32,
   "metadata": {},
   "outputs": [
    {
     "name": "stdout",
     "output_type": "stream",
     "text": [
      "o w\n"
     ]
    }
   ],
   "source": [
    "a='Hello world'\n",
    "print(a[4],a[-5])"
   ]
  },
  {
   "cell_type": "markdown",
   "metadata": {},
   "source": [
    "5) Двумя способами получить символ 'w' из строки 'Hello world'"
   ]
  },
  {
   "cell_type": "code",
   "execution_count": 33,
   "metadata": {},
   "outputs": [
    {
     "name": "stdout",
     "output_type": "stream",
     "text": [
      "w w\n"
     ]
    }
   ],
   "source": [
    "print(a[len(a)-5], a[6])"
   ]
  },
  {
   "cell_type": "markdown",
   "metadata": {},
   "source": [
    "6) Вывести символ, находящийся в середине заранее неизвестной строки, полученной с помощью функции input().\n",
    "\n",
    "Пример использования функции input:"
   ]
  },
  {
   "cell_type": "code",
   "execution_count": 79,
   "metadata": {},
   "outputs": [
    {
     "name": "stdout",
     "output_type": "stream",
     "text": [
      "Amkar\n"
     ]
    }
   ],
   "source": [
    "# поместить строку, введенную пользователем, в переменную st\n",
    "st = input()"
   ]
  },
  {
   "cell_type": "code",
   "execution_count": 80,
   "metadata": {},
   "outputs": [
    {
     "name": "stdout",
     "output_type": "stream",
     "text": [
      "k\n"
     ]
    }
   ],
   "source": [
    "g=len(st)\n",
    "g1=g\n",
    "if g % 2 == 1:\n",
    "    while g1 != (g-1)/2:\n",
    "        g1-=1\n",
    "    print(st[g1])\n",
    "else: \n",
    "    while g1!=g/2:\n",
    "        g1-=1\n",
    "    print(st[g1])\n",
    "    \n"
   ]
  },
  {
   "cell_type": "markdown",
   "metadata": {},
   "source": [
    "7) Для строки 'Light ray' двумя способами получить подстроку с 1го по 4й символы включительно."
   ]
  },
  {
   "cell_type": "code",
   "execution_count": 95,
   "metadata": {},
   "outputs": [
    {
     "name": "stdout",
     "output_type": "stream",
     "text": [
      "Light\n",
      "Light"
     ]
    }
   ],
   "source": [
    "q='Light ray'\n",
    "print(q[0:5])\n",
    "for i in range(5):\n",
    "    print(q[i], end='')\n",
    "    "
   ]
  },
  {
   "cell_type": "markdown",
   "metadata": {},
   "source": [
    "8) Для строки 'My new text' двумя способами получить подстроку с 3го по 7й символы включительно."
   ]
  },
  {
   "cell_type": "code",
   "execution_count": 102,
   "metadata": {},
   "outputs": [
    {
     "name": "stdout",
     "output_type": "stream",
     "text": [
      "new t\n",
      "n e w   t\n"
     ]
    }
   ],
   "source": [
    "w= 'My new text'\n",
    "print(w[3:8])\n",
    "print(w[3],w[4],w[5],w[6],w[7])"
   ]
  },
  {
   "cell_type": "markdown",
   "metadata": {},
   "source": [
    "9) Получить подстроку из последних 4х символов строки 'Light ray'."
   ]
  },
  {
   "cell_type": "code",
   "execution_count": 104,
   "metadata": {},
   "outputs": [
    {
     "name": "stdout",
     "output_type": "stream",
     "text": [
      " ray\n"
     ]
    }
   ],
   "source": [
    "print(q[-4:])"
   ]
  },
  {
   "cell_type": "markdown",
   "metadata": {},
   "source": [
    "10) Составить строку из всех четных символов строки 'Light ray'."
   ]
  },
  {
   "cell_type": "code",
   "execution_count": 106,
   "metadata": {},
   "outputs": [
    {
     "name": "stdout",
     "output_type": "stream",
     "text": [
      "ih a\n"
     ]
    }
   ],
   "source": [
    "print(q[1::2])"
   ]
  },
  {
   "cell_type": "markdown",
   "metadata": {},
   "source": [
    "11) Составить строку из всех нечетных символов строки 'Light ray'."
   ]
  },
  {
   "cell_type": "code",
   "execution_count": 107,
   "metadata": {},
   "outputs": [
    {
     "name": "stdout",
     "output_type": "stream",
     "text": [
      "Lgtry\n"
     ]
    }
   ],
   "source": [
    "print(q[::2])"
   ]
  },
  {
   "cell_type": "markdown",
   "metadata": {},
   "source": [
    "12) Инвертировать (получить строку с обратной последовательностью символо) строку  'Light ray'."
   ]
  },
  {
   "cell_type": "code",
   "execution_count": 109,
   "metadata": {},
   "outputs": [
    {
     "name": "stdout",
     "output_type": "stream",
     "text": [
      "yar thgiL"
     ]
    }
   ],
   "source": [
    "t=0\n",
    "while t!=-9:\n",
    "    t-=1\n",
    "    print(q[t], end='')"
   ]
  },
  {
   "cell_type": "markdown",
   "metadata": {},
   "source": [
    "13) Вывести c третьего с начала до предпоследнего символа заранее низвестной строки, полученной с помощью функции input()."
   ]
  },
  {
   "cell_type": "code",
   "execution_count": 110,
   "metadata": {},
   "outputs": [
    {
     "name": "stdout",
     "output_type": "stream",
     "text": [
      "Amkar\n"
     ]
    }
   ],
   "source": [
    "y=input()"
   ]
  },
  {
   "cell_type": "code",
   "execution_count": 118,
   "metadata": {},
   "outputs": [
    {
     "name": "stdout",
     "output_type": "stream",
     "text": [
      "kar"
     ]
    }
   ],
   "source": [
    "u=len(y)\n",
    "o=1\n",
    "while o!=u-1:\n",
    "    o+=1\n",
    "    print(y[o], end='')"
   ]
  },
  {
   "cell_type": "markdown",
   "metadata": {},
   "source": [
    "14) Получить подстроку неизвестной заранее строки, содержащую половину символов строки и расположенную по середине строки."
   ]
  },
  {
   "cell_type": "code",
   "execution_count": 130,
   "metadata": {},
   "outputs": [
    {
     "name": "stdout",
     "output_type": "stream",
     "text": [
      "Amkar\n"
     ]
    }
   ],
   "source": [
    "y=input()"
   ]
  },
  {
   "cell_type": "code",
   "execution_count": 131,
   "metadata": {},
   "outputs": [
    {
     "data": {
      "text/plain": [
       "'         Am         '"
      ]
     },
     "execution_count": 131,
     "metadata": {},
     "output_type": "execute_result"
    }
   ],
   "source": [
    "u=len(y)\n",
    "if u % 2 == 0:\n",
    "    u=u/2\n",
    "else:\n",
    "    u=(u-1)/2\n",
    "u1=0\n",
    "y1=''\n",
    "while u1!=u:\n",
    "    u1+=1\n",
    "\"{0:^20}\".format(y[:u1:1])\n",
    "    "
   ]
  },
  {
   "cell_type": "markdown",
   "metadata": {},
   "source": [
    "15) Проверить, содержит ли произвольная строка, прочитанная в обратную сторону последовательность 'eno' "
   ]
  },
  {
   "cell_type": "code",
   "execution_count": 1,
   "metadata": {},
   "outputs": [
    {
     "name": "stdout",
     "output_type": "stream",
     "text": [
      "Amkar one\n"
     ]
    }
   ],
   "source": [
    "p=input()"
   ]
  },
  {
   "cell_type": "code",
   "execution_count": 6,
   "metadata": {},
   "outputs": [
    {
     "name": "stdout",
     "output_type": "stream",
     "text": [
      "0\n"
     ]
    }
   ],
   "source": [
    "p1=p[::-1]\n",
    "print(p1.find('eno'))\n"
   ]
  },
  {
   "cell_type": "markdown",
   "metadata": {},
   "source": [
    "16) Получить строку, начинающуюся с последних 3 символов стркои 'Light ray', а заканчивающуюся подстрокой с 1го до 4го  символа строки."
   ]
  },
  {
   "cell_type": "code",
   "execution_count": 7,
   "metadata": {},
   "outputs": [
    {
     "name": "stdout",
     "output_type": "stream",
     "text": [
      "rayLigh\n"
     ]
    }
   ],
   "source": [
    "a = 'Light ray'\n",
    "a1 = a[-3:]\n",
    "a2 = a[0:4]\n",
    "print(a1 + a2)"
   ]
  },
  {
   "cell_type": "markdown",
   "metadata": {},
   "source": [
    "17) Коротко записать создание строки 'oneoneoneoneoneonetwotwotwo'"
   ]
  },
  {
   "cell_type": "code",
   "execution_count": 1,
   "metadata": {},
   "outputs": [
    {
     "name": "stdout",
     "output_type": "stream",
     "text": [
      "oneoneoneoneoneonetwotwotwo\n"
     ]
    }
   ],
   "source": [
    "a=6*'one' + 3*'two'\n",
    "print(a)"
   ]
  },
  {
   "cell_type": "markdown",
   "metadata": {},
   "source": [
    "18) Разбить строку на список из строк, состоящих только из названий чисел."
   ]
  },
  {
   "cell_type": "code",
   "execution_count": 24,
   "metadata": {},
   "outputs": [
    {
     "data": {
      "text/plain": [
       "['  one',\n",
       " 'two',\n",
       " 'three',\n",
       " 'four',\n",
       " 'five',\n",
       " 'six',\n",
       " 'seven',\n",
       " 'eight',\n",
       " 'nine',\n",
       " 'ten   ']"
      ]
     },
     "execution_count": 24,
     "metadata": {},
     "output_type": "execute_result"
    }
   ],
   "source": [
    "st = '  one,two,three,four,five,six,seven,eight,nine,ten   '\n",
    "st.split(',')"
   ]
  },
  {
   "cell_type": "markdown",
   "metadata": {},
   "source": [
    "19) Вставить между всеми символами строки 'Hello world' стрелочку '->' и сохранить результат в строковой переменной.\n",
    "\n",
    "Ожидаемый результат:"
   ]
  },
  {
   "cell_type": "code",
   "execution_count": 4,
   "metadata": {},
   "outputs": [
    {
     "name": "stdout",
     "output_type": "stream",
     "text": [
      "H->e->l->l->o-> ->w->o->r->l->d\n"
     ]
    }
   ],
   "source": [
    "b='Hello world'\n",
    "b1=len(b)-1\n",
    "for i in range(b1+1):\n",
    "    if i==b1:\n",
    "        print(b[i])\n",
    "    else:\n",
    "        print(b[i], end='->')\n",
    "    "
   ]
  },
  {
   "cell_type": "raw",
   "metadata": {},
   "source": [
    "H->e->l->l->o-> ->w->o->r->l->d"
   ]
  },
  {
   "cell_type": "markdown",
   "metadata": {},
   "source": [
    "20) Для двух произвольных строк провести сравнение на совпадение содержимого без учета регистра букв и начальных и конечных пробельных символов.\n",
    "\n",
    "Например, для двух строк"
   ]
  },
  {
   "cell_type": "code",
   "execution_count": 3,
   "metadata": {
    "collapsed": true
   },
   "outputs": [],
   "source": [
    "st1 = '     hElLo WorLD  '"
   ]
  },
  {
   "cell_type": "code",
   "execution_count": 4,
   "metadata": {
    "collapsed": true
   },
   "outputs": [],
   "source": [
    "st2 = 'hello WORLD  '"
   ]
  },
  {
   "cell_type": "code",
   "execution_count": 11,
   "metadata": {},
   "outputs": [
    {
     "name": "stdout",
     "output_type": "stream",
     "text": [
      "HELLO WORLD\n",
      "HELLO WORLD\n"
     ]
    },
    {
     "data": {
      "text/plain": [
       "True"
      ]
     },
     "execution_count": 11,
     "metadata": {},
     "output_type": "execute_result"
    }
   ],
   "source": [
    "st2 = 'hello WORLD  '\n",
    "st1 = '     hElLo WorLD  '\n",
    "st3=st2.upper()\n",
    "st4=st1.upper()\n",
    "print(st3.strip())\n",
    "print(st4.strip())\n",
    "st3.strip() == st4.strip()\n"
   ]
  },
  {
   "cell_type": "markdown",
   "metadata": {},
   "source": [
    "такое сравнение должно возвращать True (содержание строк совпадает)."
   ]
  },
  {
   "cell_type": "markdown",
   "metadata": {},
   "source": [
    "21) В строке 'hello hello Hello hello' найти индекс второго вхождения подстроки 'hel' "
   ]
  },
  {
   "cell_type": "code",
   "execution_count": 12,
   "metadata": {},
   "outputs": [
    {
     "name": "stdout",
     "output_type": "stream",
     "text": [
      "6\n"
     ]
    }
   ],
   "source": [
    "m='hello hello Hello hello'\n",
    "print(m.find('hel', 3, 11))"
   ]
  },
  {
   "cell_type": "markdown",
   "metadata": {},
   "source": [
    "22) В строке 'hello hello Hello hello' найти индекс второго С КОНЦА вхождения подстроки 'hel'"
   ]
  },
  {
   "cell_type": "code",
   "execution_count": 13,
   "metadata": {},
   "outputs": [
    {
     "name": "stdout",
     "output_type": "stream",
     "text": [
      "6\n"
     ]
    }
   ],
   "source": [
    "print(m.find('hel', -18, ))"
   ]
  },
  {
   "cell_type": "markdown",
   "metadata": {},
   "source": [
    "23) Из заранее неизвестной строки вырезать подстроку, начинающуюся с 'he' и заканчивающееся 'on'. Протестировать на строке"
   ]
  },
  {
   "cell_type": "raw",
   "metadata": {},
   "source": [
    "    start hello python world"
   ]
  },
  {
   "cell_type": "code",
   "execution_count": 15,
   "metadata": {},
   "outputs": [
    {
     "name": "stdout",
     "output_type": "stream",
     "text": [
      "    start hello python world\n"
     ]
    }
   ],
   "source": [
    "b=input()"
   ]
  },
  {
   "cell_type": "code",
   "execution_count": 27,
   "metadata": {},
   "outputs": [
    {
     "name": "stdout",
     "output_type": "stream",
     "text": [
      "heon\n"
     ]
    }
   ],
   "source": [
    "p1=b.find('he')\n",
    "p2=b.find('on')\n",
    "print(b[p1:p1 + 2] + b[p2:p2 + 2])\n",
    "\n",
    "\n"
   ]
  },
  {
   "cell_type": "markdown",
   "metadata": {},
   "source": [
    "24) Используя цикл for и функцию enumerate() (см. лекцию 2) вывести произвольную строку на экран и при этом убрать все пробелы и на их месте вывести номер слова по счету\n",
    "\n",
    "Пример.\n",
    "\n",
    "Исходная строка:"
   ]
  },
  {
   "cell_type": "raw",
   "metadata": {},
   "source": [
    "hello hello Hello hello"
   ]
  },
  {
   "cell_type": "markdown",
   "metadata": {},
   "source": [
    "выведено на экран:"
   ]
  },
  {
   "cell_type": "raw",
   "metadata": {},
   "source": [
    "hello1hello2Hello3hello4"
   ]
  },
  {
   "cell_type": "code",
   "execution_count": 13,
   "metadata": {},
   "outputs": [
    {
     "name": "stdout",
     "output_type": "stream",
     "text": [
      "hello hello Hello hello\n",
      "['hello', 'hello', 'Hello', 'hello']\n"
     ]
    }
   ],
   "source": [
    "a = input()\n",
    "print(a.split())"
   ]
  },
  {
   "cell_type": "code",
   "execution_count": 25,
   "metadata": {},
   "outputs": [
    {
     "name": "stdout",
     "output_type": "stream",
     "text": [
      "hello1hello2Hello3hello4"
     ]
    }
   ],
   "source": [
    "b = a.split()\n",
    "for index, value in enumerate(b):\n",
    "    i=int(index + 1)\n",
    "    print(value, i, end='', sep='')"
   ]
  },
  {
   "cell_type": "markdown",
   "metadata": {},
   "source": [
    "25) Сформировать строку форматирования, которая для вызова"
   ]
  },
  {
   "cell_type": "raw",
   "metadata": {},
   "source": [
    "format('val1', 'val2', 'val3')"
   ]
  },
  {
   "cell_type": "markdown",
   "metadata": {},
   "source": [
    "будет возрващать следующий результат:"
   ]
  },
  {
   "cell_type": "raw",
   "metadata": {},
   "source": [
    "val3-val2-val1-val2-val3"
   ]
  },
  {
   "cell_type": "code",
   "execution_count": 30,
   "metadata": {},
   "outputs": [
    {
     "name": "stdout",
     "output_type": "stream",
     "text": [
      "val3-val2-val1-val2-val3\n"
     ]
    }
   ],
   "source": [
    "print(\"{2}-{1}-{0}-{1}-{2}\".format('val1', 'val2', 'val3'))"
   ]
  },
  {
   "cell_type": "markdown",
   "metadata": {},
   "source": [
    "26) Сформировать строку форматирования fs, которая при использовании в нижеследующем коде приводит к формированию таблицы, выведенной в следующей ячейке."
   ]
  },
  {
   "cell_type": "code",
   "execution_count": 35,
   "metadata": {},
   "outputs": [
    {
     "name": "stdout",
     "output_type": "stream",
     "text": [
      "0123456789012345678901234567890123456789\n",
      " |   1 | | ###59.06 | |      453 | |00000001|\n",
      " |   5 | | ##159.00 | |  123,453 | |00000111|\n",
      " |  15 | | #-159.10 | | -     12 | |00010000|\n",
      " | 105 | | -1059.10 | |    1,200 | |11111111|\n"
     ]
    }
   ],
   "source": [
    "print('0123456789' * 4)\n",
    "fs = ' | {line:>3} | | {1:#>8.2f} | | {0:=8,d} | |{2:0>8b}|' # задайте тут свою строку форматирования\n",
    "print(fs.format(453, 59.058, 1, line=1))\n",
    "print(fs.format(123453, 159.0, 7, line=5))\n",
    "print(fs.format(-12, -159.099, 16, line=15))\n",
    "print(fs.format(1200, -1059.099, 255, line=105))"
   ]
  },
  {
   "cell_type": "code",
   "execution_count": 32,
   "metadata": {
    "scrolled": true
   },
   "outputs": [
    {
     "name": "stdout",
     "output_type": "stream",
     "text": [
      "\n",
      "0123456789012345678901234567890123456789\n",
      "|   1 | ###59.06|      453 | 00000001 |\n",
      "|   5 | ##159.00|  123,453 | 00000111 |\n",
      "|  15 | #-159.10| -     12 | 00010000 |\n",
      "| 105 | -1059.10|    1,200 | 11111111 |\n",
      "\n"
     ]
    }
   ],
   "source": [
    "print(\"\"\"\n",
    "0123456789012345678901234567890123456789\n",
    "|   1 | ###59.06|      453 | 00000001 |\n",
    "|   5 | ##159.00|  123,453 | 00000111 |\n",
    "|  15 | #-159.10| -     12 | 00010000 |\n",
    "| 105 | -1059.10|    1,200 | 11111111 |\n",
    "\"\"\")"
   ]
  },
  {
   "cell_type": "code",
   "execution_count": null,
   "metadata": {
    "collapsed": true
   },
   "outputs": [],
   "source": []
  }
 ],
 "metadata": {
  "anaconda-cloud": {},
  "kernelspec": {
   "display_name": "Python 3",
   "language": "python",
   "name": "python3"
  },
  "language_info": {
   "codemirror_mode": {
    "name": "ipython",
    "version": 3
   },
   "file_extension": ".py",
   "mimetype": "text/x-python",
   "name": "python",
   "nbconvert_exporter": "python",
   "pygments_lexer": "ipython3",
   "version": "3.6.5"
  }
 },
 "nbformat": 4,
 "nbformat_minor": 1
}
