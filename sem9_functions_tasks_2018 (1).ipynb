{
 "cells": [
  {
   "cell_type": "markdown",
   "metadata": {},
   "source": [
    "# Задания по семинару 9\n",
    "\n",
    "# Функции"
   ]
  },
  {
   "cell_type": "markdown",
   "metadata": {},
   "source": [
    "1) Написать и задокументировать функцию ``mul`` умножения двух чисел. В документации указать, для каких типов данная функция будет возвращать практически ценный результат.\n",
    "\n",
    "Вызвать написанную функцию с различными аргументами."
   ]
  },
  {
   "cell_type": "code",
   "execution_count": 8,
   "metadata": {},
   "outputs": [],
   "source": [
    "def mul(x, y):\n",
    "    \"\"\"функция возвращает результат умножения\n",
    "    двух аргументов x и y\"\"\"\n",
    "    return x*y"
   ]
  },
  {
   "cell_type": "code",
   "execution_count": 10,
   "metadata": {},
   "outputs": [
    {
     "data": {
      "text/plain": [
       "'ckfkvokvkckfkvokvkckfkvokvkckfkvokvkckfkvokvkckfkvokvkckfkvokvkckfkvokvkckfkvokvkckfkvokvk'"
      ]
     },
     "execution_count": 10,
     "metadata": {},
     "output_type": "execute_result"
    }
   ],
   "source": [
    "mul(10, 'ckfkvokvk')"
   ]
  },
  {
   "cell_type": "markdown",
   "metadata": {},
   "source": [
    "2) Модернизировать функцию умножения из задачи 1) так, чтобы она могла принимать от одного до трех аргументов.\n",
    "\n",
    "Вызвать написанную функцию с различным количеством аргументов."
   ]
  },
  {
   "cell_type": "code",
   "execution_count": 13,
   "metadata": {},
   "outputs": [],
   "source": [
    "def mul(a, b=1, c=1):\n",
    "    \"\"\"функция возвращает результат умножения\n",
    "    двух аргументов x и y\"\"\"\n",
    "    return a*b*c"
   ]
  },
  {
   "cell_type": "code",
   "execution_count": 14,
   "metadata": {},
   "outputs": [
    {
     "data": {
      "text/plain": [
       "210"
      ]
     },
     "execution_count": 14,
     "metadata": {},
     "output_type": "execute_result"
    }
   ],
   "source": [
    "mul(5, 6, 7)"
   ]
  },
  {
   "cell_type": "markdown",
   "metadata": {},
   "source": [
    "3) Функцию из задачи 2) вызвать с приведенными ниже аргументами.\n",
    "\n",
    "Для случая с кортежем ``a4`` выбрать 3 первых и 3 последних значения."
   ]
  },
  {
   "cell_type": "code",
   "execution_count": 27,
   "metadata": {},
   "outputs": [],
   "source": [
    "a1 = (15, 10, 5)\n",
    "\n",
    "a2 = (3, 2)\n",
    "\n",
    "a3 = [2, 35, 55]\n",
    "\n",
    "a4 = (5, 10, 15, 20)"
   ]
  },
  {
   "cell_type": "code",
   "execution_count": 28,
   "metadata": {},
   "outputs": [],
   "source": [
    "def mul(a, b=1, c=1):\n",
    "    return a*b*c"
   ]
  },
  {
   "cell_type": "code",
   "execution_count": 29,
   "metadata": {},
   "outputs": [
    {
     "data": {
      "text/plain": [
       "750"
      ]
     },
     "execution_count": 29,
     "metadata": {},
     "output_type": "execute_result"
    }
   ],
   "source": [
    "mul(*a1)"
   ]
  },
  {
   "cell_type": "code",
   "execution_count": 30,
   "metadata": {},
   "outputs": [
    {
     "data": {
      "text/plain": [
       "6"
      ]
     },
     "execution_count": 30,
     "metadata": {},
     "output_type": "execute_result"
    }
   ],
   "source": [
    "mul(*a2)"
   ]
  },
  {
   "cell_type": "code",
   "execution_count": 25,
   "metadata": {},
   "outputs": [
    {
     "data": {
      "text/plain": [
       "3850"
      ]
     },
     "execution_count": 25,
     "metadata": {},
     "output_type": "execute_result"
    }
   ],
   "source": [
    "mul(*a3)"
   ]
  },
  {
   "cell_type": "code",
   "execution_count": 31,
   "metadata": {},
   "outputs": [
    {
     "data": {
      "text/plain": [
       "750"
      ]
     },
     "execution_count": 31,
     "metadata": {},
     "output_type": "execute_result"
    }
   ],
   "source": [
    "mul(*a4[:3])"
   ]
  },
  {
   "cell_type": "code",
   "execution_count": 32,
   "metadata": {},
   "outputs": [
    {
     "data": {
      "text/plain": [
       "3000"
      ]
     },
     "execution_count": 32,
     "metadata": {},
     "output_type": "execute_result"
    }
   ],
   "source": [
    "mul(*a4[-3:])"
   ]
  },
  {
   "cell_type": "markdown",
   "metadata": {},
   "source": [
    "4) Модернизировать функцию умножения из задачи 1) так, чтобы она могла принимать неограниченное число аргументов.\n",
    "\n",
    "Вызвать написанную функцию с различным количеством аргументов, в том числе с аргументами из задания 3)."
   ]
  },
  {
   "cell_type": "code",
   "execution_count": 52,
   "metadata": {},
   "outputs": [],
   "source": [
    "def mul(*args):\n",
    "    res = 1\n",
    "    for i in args:\n",
    "        res *= i\n",
    "    return res"
   ]
  },
  {
   "cell_type": "code",
   "execution_count": 53,
   "metadata": {},
   "outputs": [
    {
     "data": {
      "text/plain": [
       "15000"
      ]
     },
     "execution_count": 53,
     "metadata": {},
     "output_type": "execute_result"
    }
   ],
   "source": [
    "mul(*a4)"
   ]
  },
  {
   "cell_type": "markdown",
   "metadata": {},
   "source": [
    "5) Реализовать четыре функции для выполнения элементарных арифметических операций (``+``, ``-``, ``*``, ``/``) для двух чисел.\n",
    "\n",
    "Создать словарь, в котором ключами являются знаки арифметических операций, в значениями - реализованные ранее функции.\n",
    "\n",
    "Для двух заранее заданных целых чисел (например, 20 и 5) выполнить выбранную пользователем арифметическую операцию."
   ]
  },
  {
   "cell_type": "code",
   "execution_count": 43,
   "metadata": {},
   "outputs": [],
   "source": [
    "def mul(x, y):\n",
    "    return x*y\n",
    "def add(x, y):\n",
    "    return x+y\n",
    "def sub(x, y):\n",
    "    return x+y\n",
    "def div(x, y):\n",
    "    return x/y"
   ]
  },
  {
   "cell_type": "code",
   "execution_count": 45,
   "metadata": {},
   "outputs": [],
   "source": [
    "operations = {'+': add, '-': sub, '*': mul, '/': div}"
   ]
  },
  {
   "cell_type": "code",
   "execution_count": 49,
   "metadata": {},
   "outputs": [
    {
     "name": "stdout",
     "output_type": "stream",
     "text": [
      "Введите оперцаию: *\n"
     ]
    },
    {
     "data": {
      "text/plain": [
       "100"
      ]
     },
     "execution_count": 49,
     "metadata": {},
     "output_type": "execute_result"
    }
   ],
   "source": [
    "a = 20\n",
    "b = 5\n",
    "inp = input('Введите оперцаию: ')\n",
    "operations[inp](a, b)"
   ]
  },
  {
   "cell_type": "raw",
   "metadata": {},
   "source": [
    "6) Решить задачу 5) при помощи анонимных функций."
   ]
  },
  {
   "cell_type": "code",
   "execution_count": 58,
   "metadata": {},
   "outputs": [
    {
     "name": "stdout",
     "output_type": "stream",
     "text": [
      "Введите оперцаию: /\n"
     ]
    },
    {
     "data": {
      "text/plain": [
       "4.0"
      ]
     },
     "execution_count": 58,
     "metadata": {},
     "output_type": "execute_result"
    }
   ],
   "source": [
    "operations = {'+': lambda a, b: a + b,\n",
    "              '-': lambda a, b: a - b, \n",
    "              '*': lambda a, b: a * b, \n",
    "              '/': lambda a, b: a / b}\n",
    "a = 20\n",
    "b = 5\n",
    "inp = input('Введите оперцаию: ')\n",
    "operations[inp](a, b)"
   ]
  },
  {
   "cell_type": "markdown",
   "metadata": {},
   "source": [
    "7) Реализовать функцию, которая выводит на экран сообщение вида:"
   ]
  },
  {
   "cell_type": "raw",
   "metadata": {},
   "source": [
    "Автомобиль марки: BMW, модели: X5, цвета: белый, 2006 года выпуска, с пробегом: 215 000 км, c государственным регистрационным знаком: X012АМ77, цена: 1 115 000 руб."
   ]
  },
  {
   "cell_type": "markdown",
   "metadata": {},
   "source": [
    "В функцию передаются **именованные** аргументы изменяемой части сообщения. Любой из аргументов может быть не передан пользователем в функцию, и тогда он автоматически заменяется на разумное слово (словосочетание) в соответствующей части строки.\n",
    "\n",
    "Получить вывод текстового сообщения для словарей ``car1``, ``car2``."
   ]
  },
  {
   "cell_type": "code",
   "execution_count": 6,
   "metadata": {},
   "outputs": [],
   "source": [
    "def afto(**d):\n",
    "    dic = {'car': ' ', 'model': ' ', 'color': ' ', 'prod_year': ' ', 'mileage': ' ', 'number': ' ', 'price': ' '}\n",
    "    for k, v in d.items():\n",
    "        if k in dic:\n",
    "            dic[k] = v\n",
    "    for k, v in dic.items():\n",
    "        if v == ' ':\n",
    "            dic[k] = 'nothing'\n",
    "    return dic"
   ]
  },
  {
   "cell_type": "code",
   "execution_count": 7,
   "metadata": {},
   "outputs": [
    {
     "name": "stdout",
     "output_type": "stream",
     "text": [
      "{'car': 'BMW', 'model': 'X5', 'color': 'nothing', 'prod_year': 2006, 'mileage': 'nothing', 'number': 'X012АМ77', 'price': 1115000}\n",
      "{'car': 'Lada', 'model': '21063', 'color': 'черный', 'prod_year': 1996, 'mileage': 321000, 'number': 'nothing', 'price': 20000}\n"
     ]
    }
   ],
   "source": [
    "car1 = {'car': 'BMW',\n",
    "        'model': 'X5',\n",
    "        'number': 'X012АМ77',\n",
    "        'price': 1115000,\n",
    "        'prod_year': 2006}\n",
    "\n",
    "car2 = {'car': 'Lada',\n",
    "        'color': 'черный',\n",
    "        'mileage': 321000,\n",
    "        'model': '21063',\n",
    "        'price': 20000,\n",
    "        'prod_year': 1996}\n",
    "print(afto(**car1))\n",
    "print(afto(**car2))"
   ]
  },
  {
   "cell_type": "markdown",
   "metadata": {},
   "source": [
    "8) Дан список словарей:"
   ]
  },
  {
   "cell_type": "code",
   "execution_count": 20,
   "metadata": {},
   "outputs": [],
   "source": [
    "dl = [{'a': 10, 'b': 20, 'c': 1}, {'a': 5, 'b': 10, 'z': 10}, {'u': 3, 'b': 7}]"
   ]
  },
  {
   "cell_type": "markdown",
   "metadata": {},
   "source": [
    "С помощью анонимной функции отсортировать словари по значению, содержащемуся по ключу ``b``."
   ]
  },
  {
   "cell_type": "code",
   "execution_count": 24,
   "metadata": {},
   "outputs": [
    {
     "data": {
      "text/plain": [
       "[{'u': 3, 'b': 7}, {'a': 5, 'b': 10, 'z': 10}, {'a': 10, 'b': 20, 'c': 1}]"
      ]
     },
     "execution_count": 24,
     "metadata": {},
     "output_type": "execute_result"
    }
   ],
   "source": [
    "sorted(dl, key = lambda d1: d1['b'])"
   ]
  },
  {
   "cell_type": "markdown",
   "metadata": {},
   "source": [
    "9) Реализовать функцию, которая вычисляет значение многочлена $3x^2+7x-4$."
   ]
  },
  {
   "cell_type": "code",
   "execution_count": 30,
   "metadata": {},
   "outputs": [
    {
     "name": "stdout",
     "output_type": "stream",
     "text": [
      "3 7 -4\n",
      "(0.47480963363268397, -2.808142966966017)\n"
     ]
    }
   ],
   "source": [
    "def mch(a, b, c):\n",
    "    D = b**2 - 4*a*c\n",
    "    if D>0:\n",
    "        x1 = (-b + pow(D, 0.5))/(2*a)\n",
    "        x2 = (-b - pow(D, 0.5))/(2*a)\n",
    "        return x1, x2\n",
    "    elif D == 0:\n",
    "        x = -b/(2*a)\n",
    "        return x\n",
    "    else:\n",
    "        return 'нет действительных корней'\n",
    "a = input().split()\n",
    "a = [int(i) for i in a]\n",
    "print(mch(*a))"
   ]
  },
  {
   "cell_type": "markdown",
   "metadata": {},
   "source": [
    "10) Написать функцию, которая для переданного аргумента ``x`` вычисляет значение функции $f(x)=cos(2x)$, а также двух ее производных: $f'(x)=−2sin(2x)$, $f''(x)=−4cos(2x)$.\n",
    "\n",
    "Результат вернуть в виде кортежа.\n",
    "\n",
    "Вызвать написанную функцию, передав в качестве аргумента число $\\pi$."
   ]
  },
  {
   "cell_type": "code",
   "execution_count": 29,
   "metadata": {},
   "outputs": [],
   "source": [
    "from math import sin, cos, pi"
   ]
  },
  {
   "cell_type": "code",
   "execution_count": 40,
   "metadata": {},
   "outputs": [
    {
     "name": "stdout",
     "output_type": "stream",
     "text": [
      "(1.0, 4.898587196589413e-16, -4.0)\n"
     ]
    }
   ],
   "source": [
    "def pr(x):\n",
    "    f1 = cos(2*x)\n",
    "    f2 = -2*sin(2*x)\n",
    "    f3 = -4*cos(2*x)\n",
    "    return f1, f2, f3\n",
    "print(pr(pi))"
   ]
  },
  {
   "cell_type": "markdown",
   "metadata": {},
   "source": [
    "11) Написать функцию, которая печатает на экране первые ``n`` строчек треугольника Паскаля. Вывод центровать не обязательно."
   ]
  },
  {
   "cell_type": "code",
   "execution_count": 37,
   "metadata": {},
   "outputs": [],
   "source": [
    "def pas(n):\n",
    "    s = []\n",
    "    for i in range(n):\n",
    "        if i == 0 or i == n-1:\n",
    "            s.append(1)\n",
    "        else:\n",
    "            preds = pas(n-1)\n",
    "            s.append(preds[i-1] + preds[i])\n",
    "    return s"
   ]
  },
  {
   "cell_type": "code",
   "execution_count": 42,
   "metadata": {},
   "outputs": [
    {
     "name": "stdout",
     "output_type": "stream",
     "text": [
      "5\n",
      "[1]\n",
      "[1, 1]\n",
      "[1, 2, 1]\n",
      "[1, 3, 3, 1]\n",
      "[1, 4, 6, 4, 1]\n"
     ]
    }
   ],
   "source": [
    "for i in range(1, int(input()) + 1):\n",
    "    print(pas(i))"
   ]
  },
  {
   "cell_type": "raw",
   "metadata": {},
   "source": [
    "# 12) Написать функцию, которая проверяет, является ли переданная пользователем строка **панграммой**. Второй необязательный аргумент в функции - это идентификатор алфавита (функция должна поддерживать русский (``ru``, является значением по умолчанию) и английский (``eng``) алфавиты).\n",
    "\n",
    "Проверить корректность работы функции на следующих строках, а также на данных строках с одной любой удаленной буквой."
   ]
  },
  {
   "cell_type": "code",
   "execution_count": 8,
   "metadata": {},
   "outputs": [],
   "source": [
    "s1 = 'The quick brown fox jumps over the lazy dog'\n",
    "s2 = 'Съешь же ещё этих мягких французских булок да выпей чаю'"
   ]
  },
  {
   "cell_type": "code",
   "execution_count": 31,
   "metadata": {},
   "outputs": [],
   "source": [
    "def pan(sent, alpha = 'ru'):\n",
    "    if alpha == 'ru':\n",
    "        alsymb = set([chr(i) for i in range(ord('а'), ord('я') + 1)])\n",
    "    elif alpha == 'eng':\n",
    "        alsymb = set([chr(i) for i in range(ord('a'), ord('z') + 1)])\n",
    "    else:\n",
    "        return False\n",
    "    return alsymb <= set(sent.lower())"
   ]
  },
  {
   "cell_type": "code",
   "execution_count": 32,
   "metadata": {},
   "outputs": [
    {
     "name": "stdout",
     "output_type": "stream",
     "text": [
      "True\n",
      "True\n",
      "False\n"
     ]
    }
   ],
   "source": [
    "print(pan('The quick brown fox jumps over the lazy dog', 'eng'))\n",
    "print(pan('Съешь же ещё этих мягких французских булок да выпей чаю'))\n",
    "print(pan('Амкар'))"
   ]
  },
  {
   "cell_type": "markdown",
   "metadata": {},
   "source": [
    "13) Переписать функцию ``func`` таким образом, чтобы она стала **\"чистой\"**, т.е. не имела **побочных эффектов**, таких как работа с глобальными переменными или модификация переданных аргументов. "
   ]
  },
  {
   "cell_type": "code",
   "execution_count": 7,
   "metadata": {},
   "outputs": [
    {
     "name": "stdout",
     "output_type": "stream",
     "text": [
      "[1, 2, 3, 0, 1, 2, 3, 4]\n",
      "[1, 2, 3]\n"
     ]
    }
   ],
   "source": [
    "x = 5\n",
    "def func(my_list, x):\n",
    "    return my_list + list(range(x))\n",
    "\n",
    "my_list = [1, 2, 3]\n",
    "res = func(my_list, x)\n",
    "\n",
    "print(res)\n",
    "\n",
    "print(my_list)"
   ]
  },
  {
   "cell_type": "markdown",
   "metadata": {},
   "source": [
    "14) Написать функцию ``do_twice``, которая выполняет переданную в нее функцию дважды.\n",
    "\n",
    "Например, пусть некая функция ``spam`` определена следующим образом:"
   ]
  },
  {
   "cell_type": "code",
   "execution_count": 4,
   "metadata": {},
   "outputs": [],
   "source": [
    "def do_twice(func):\n",
    "    func()\n",
    "    func()"
   ]
  },
  {
   "cell_type": "code",
   "execution_count": 5,
   "metadata": {},
   "outputs": [],
   "source": [
    "def spam():\n",
    "    print('Spam!')"
   ]
  },
  {
   "cell_type": "code",
   "execution_count": 6,
   "metadata": {},
   "outputs": [
    {
     "name": "stdout",
     "output_type": "stream",
     "text": [
      "Spam!\n",
      "Spam!\n"
     ]
    }
   ],
   "source": [
    "do_twice(spam)"
   ]
  },
  {
   "cell_type": "markdown",
   "metadata": {},
   "source": [
    "Тогда следующий код"
   ]
  },
  {
   "cell_type": "markdown",
   "metadata": {},
   "source": [
    "должен напечатать ``Spam!`` два раза."
   ]
  },
  {
   "cell_type": "markdown",
   "metadata": {},
   "source": [
    "15) Используя решение задачи 14), написать функцию ``do_four``, которая выполняет переданную в нее функцию четыре раза. Тело функции ``do_four`` должно содержать только **две строчки**, а не четыре!\n",
    "\n",
    "В качестве примера ниже приведен результата вызова ``do_four(spam)``:"
   ]
  },
  {
   "cell_type": "code",
   "execution_count": 7,
   "metadata": {},
   "outputs": [],
   "source": [
    "def do_four(func):\n",
    "    do_twice(func)\n",
    "    do_twice(func)"
   ]
  },
  {
   "cell_type": "code",
   "execution_count": 8,
   "metadata": {},
   "outputs": [
    {
     "name": "stdout",
     "output_type": "stream",
     "text": [
      "Spam!\n",
      "Spam!\n",
      "Spam!\n",
      "Spam!\n"
     ]
    }
   ],
   "source": [
    "do_four(spam)"
   ]
  },
  {
   "cell_type": "raw",
   "metadata": {},
   "source": [
    "Spam!\n",
    "Spam!\n",
    "Spam!\n",
    "Spam!"
   ]
  },
  {
   "cell_type": "markdown",
   "metadata": {},
   "source": [
    "16) Написать функцию ``multiply_by``, которая возвращает функцию умножения на переданное в качестве аргумента число.\n",
    "\n",
    "Например, следующий код"
   ]
  },
  {
   "cell_type": "raw",
   "metadata": {},
   "source": [
    "multiply_five = multiply_by(5)\n",
    "print(multiply_five(2))"
   ]
  },
  {
   "cell_type": "code",
   "execution_count": 13,
   "metadata": {},
   "outputs": [],
   "source": [
    "def multiply_by(x):\n",
    "    def multiplier(number):\n",
    "        return number * x\n",
    "    return multiplier"
   ]
  },
  {
   "cell_type": "code",
   "execution_count": 14,
   "metadata": {},
   "outputs": [
    {
     "name": "stdout",
     "output_type": "stream",
     "text": [
      "10\n"
     ]
    }
   ],
   "source": [
    "multiply_five = multiply_by(5)\n",
    "print(multiply_five(2))"
   ]
  },
  {
   "cell_type": "code",
   "execution_count": 15,
   "metadata": {},
   "outputs": [
    {
     "data": {
      "text/plain": [
       "10"
      ]
     },
     "execution_count": 15,
     "metadata": {},
     "output_type": "execute_result"
    }
   ],
   "source": [
    "multiply_by(5)(2)"
   ]
  },
  {
   "cell_type": "markdown",
   "metadata": {},
   "source": [
    "должен вывести на экран ``10``."
   ]
  },
  {
   "cell_type": "raw",
   "metadata": {},
   "source": [
    "# 17) Написать функцию быстрого возведения в степень ``fast_power(n, p)``, где ``n`` - это число, а ``p`` - степень.\n",
    "\n",
    "Алгоритм:\n",
    "\n",
    "Base Case. If ``p = 0``, return 1.0.\n",
    "\n",
    "Odd. If ``p`` is odd, return ``n × fast_power(n, p − 1)``.\n",
    "\n",
    "Even. If ``p`` is even, compute ``t ← fast_power(n, p ÷ 2)``; return ``t × t``.\n",
    "\n",
    "Проверить работу функции на ``n=1,2,6,10`` и ``p=1,2,5,10,100``."
   ]
  },
  {
   "cell_type": "code",
   "execution_count": 6,
   "metadata": {},
   "outputs": [
    {
     "name": "stdout",
     "output_type": "stream",
     "text": [
      "6\n",
      "10\n",
      "60466176.0\n"
     ]
    }
   ],
   "source": [
    "def fast_power(n, p):\n",
    "    if p == 0:\n",
    "        return 1\n",
    "    else:\n",
    "        return n * fast_power(n, p - 1)\n",
    "print(fast_power(float(input()), int(input())))\n",
    "        "
   ]
  },
  {
   "cell_type": "markdown",
   "metadata": {},
   "source": [
    "18) Написать функцию ``max_of_function(func, a, b)``, которая возвращает число из отрезка ``[a; b]``, при котором значение переданной функции (от одного целочисленного аргумента) ``func`` максимально.\n",
    "\n",
    "Алгоритм:\n",
    "```\n",
    "1. Initialize\n",
    "   x ← a\n",
    "   max ← x\n",
    "   maxFx ← func(max)\n",
    "\n",
    "2. Loop\n",
    "   While a ≤ x ≤ b\n",
    "       2.1 New Max?\n",
    "           If func(x) > maxFx, then\n",
    "           max ← x\n",
    "           maxFx ← func(max)\n",
    "       2.2 Next X\n",
    "           Increment x by 1\n",
    "```\n",
    "\n",
    "\n",
    "Проверить работу написанной функции на отрезке ``[-3; 12]`` и следующих функциях ``func``:\n",
    "- ``f1 = lambda x: x``. Ответ: максимальное значение ``f1`` равно 12 при ``x=12``.\n",
    "- ``f2 = lambda x: -5 / 3 * x - 3``. Ответ: максимальное значение ``f2`` равно 2 при ``x=-3``.\n",
    "- ``f3 = lambda x: -5 * x * x + 2 * x - 3``. Ответ: максимальное значение ``f3`` равно -3 при ``x=0``."
   ]
  },
  {
   "cell_type": "code",
   "execution_count": 26,
   "metadata": {},
   "outputs": [],
   "source": [
    "def max_of_function(func, a, b):\n",
    "    maxi = -3\n",
    "    maxFc = func(maxi)\n",
    "    i = -2\n",
    "    while a <= i <= b:\n",
    "        if func(i) > maxFc:\n",
    "            maxi = i\n",
    "            maxFc = func(maxi)\n",
    "        i += 1\n",
    "    return maxFc, maxi"
   ]
  },
  {
   "cell_type": "code",
   "execution_count": 28,
   "metadata": {},
   "outputs": [
    {
     "name": "stdout",
     "output_type": "stream",
     "text": [
      "максимальное значение функции при х равны соответственно (12, 12)\n",
      "максимальное значение функции при х равны соответственно (2.0, -3)\n",
      "максимальное значение функции при х равны соответственно (-3, 0)\n"
     ]
    }
   ],
   "source": [
    "a = -3\n",
    "b = 12\n",
    "f1 = lambda x: x\n",
    "f2 = lambda x: -5 / 3 * x - 3\n",
    "f3 = lambda x: -5 * x * x + 2 * x - 3\n",
    "print('максимальное значение функции при х равны соответственно {}'.format(max_of_function(f1, a, b)))\n",
    "print('максимальное значение функции при х равны соответственно {}'.format(max_of_function(f2, a, b)))\n",
    "print('максимальное значение функции при х равны соответственно {}'.format(max_of_function(f3, a, b)))"
   ]
  },
  {
   "cell_type": "markdown",
   "metadata": {},
   "source": [
    "19) Написать функцию ``my_pi(iters)``, аппроксимирующую значение числа $\\pi$ по [формуле Лейбница](https://en.wikipedia.org/wiki/Leibniz_formula_for_π) с заданным числом итераций ``iters``.\n",
    "\n",
    "Проверить работу функции на 100, 10000 и 100000 итерациях."
   ]
  },
  {
   "cell_type": "code",
   "execution_count": 4,
   "metadata": {},
   "outputs": [],
   "source": [
    "def my_pi(iters):\n",
    "    znac = 1\n",
    "    pi = 0 \n",
    "    denominator = 1\n",
    "    for i in range(iters):\n",
    "        pi += znac / denominator\n",
    "        znac *= -1\n",
    "        denominator += 2\n",
    "    return pi*4"
   ]
  },
  {
   "cell_type": "code",
   "execution_count": 5,
   "metadata": {},
   "outputs": [
    {
     "data": {
      "text/plain": [
       "3.1415826535897198"
      ]
     },
     "execution_count": 5,
     "metadata": {},
     "output_type": "execute_result"
    }
   ],
   "source": [
    "my_pi(100000)"
   ]
  },
  {
   "cell_type": "markdown",
   "metadata": {},
   "source": [
    "20) Написать функцию ``my_pi2(iters)``, решающую задачу 19), но используя формулу Мадхавы:\n",
    "\n",
    "$$\\pi=\\sqrt{12} \\sum_{i=0}^{\\infty}\\frac{(-1)^i}{(2i+1)3^i}$$\n",
    "\n",
    "Не использовать функцию возведения в степень. Для извлечения квадратного корня воспользоваться функцией ``sqrt`` из модуля ``math``:"
   ]
  },
  {
   "cell_type": "code",
   "execution_count": 1,
   "metadata": {},
   "outputs": [
    {
     "data": {
      "text/plain": [
       "3.4641016151377544"
      ]
     },
     "execution_count": 1,
     "metadata": {},
     "output_type": "execute_result"
    }
   ],
   "source": [
    "import math\n",
    "\n",
    "math.sqrt(12)"
   ]
  },
  {
   "cell_type": "markdown",
   "metadata": {},
   "source": [
    "Проверить работу функции на 100, 10000 и 100000 итерациях. Сравнить с результатами из задачи 19)."
   ]
  },
  {
   "cell_type": "code",
   "execution_count": 2,
   "metadata": {},
   "outputs": [],
   "source": [
    "#сПРОСИТЬ!!!\n",
    "def my_pi2(iters):\n",
    "    p = pow(-1, 0)/((2*0 + 1)*pow(3, 0))\n",
    "    for i in range(1, iters+1):\n",
    "        p += pow(-1, i) / ((2*i + 1)*pow(3, i))\n",
    "    return p"
   ]
  },
  {
   "cell_type": "code",
   "execution_count": 3,
   "metadata": {},
   "outputs": [
    {
     "name": "stdout",
     "output_type": "stream",
     "text": [
      "3.141592653589794\n"
     ]
    }
   ],
   "source": [
    "print(math.sqrt(12)*my_pi2(10000))"
   ]
  },
  {
   "cell_type": "code",
   "execution_count": null,
   "metadata": {},
   "outputs": [],
   "source": []
  }
 ],
 "metadata": {
  "anaconda-cloud": {},
  "kernelspec": {
   "display_name": "Python 3",
   "language": "python",
   "name": "python3"
  },
  "language_info": {
   "codemirror_mode": {
    "name": "ipython",
    "version": 3
   },
   "file_extension": ".py",
   "mimetype": "text/x-python",
   "name": "python",
   "nbconvert_exporter": "python",
   "pygments_lexer": "ipython3",
   "version": "3.6.5"
  }
 },
 "nbformat": 4,
 "nbformat_minor": 1
}
