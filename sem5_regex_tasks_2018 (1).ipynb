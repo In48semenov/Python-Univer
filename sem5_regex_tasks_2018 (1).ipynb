{
 "cells": [
  {
   "cell_type": "markdown",
   "metadata": {},
   "source": [
    "# Задания по семинару 5\n",
    "\n",
    "# Регулярные выражения"
   ]
  },
  {
   "cell_type": "code",
   "execution_count": 2,
   "metadata": {},
   "outputs": [],
   "source": [
    "import re"
   ]
  },
  {
   "cell_type": "markdown",
   "metadata": {},
   "source": [
    "1) Дана строка"
   ]
  },
  {
   "cell_type": "raw",
   "metadata": {},
   "source": [
    "aaa--bbb==ccc__ddd"
   ]
  },
  {
   "cell_type": "code",
   "execution_count": 6,
   "metadata": {},
   "outputs": [],
   "source": [
    "pat = re.compile(r'[-]{2}|[=]{2}|[_]{2}')"
   ]
  },
  {
   "cell_type": "code",
   "execution_count": 7,
   "metadata": {},
   "outputs": [
    {
     "data": {
      "text/plain": [
       "['aaa', 'bbb', 'ccc', 'ddd']"
      ]
     },
     "execution_count": 7,
     "metadata": {},
     "output_type": "execute_result"
    }
   ],
   "source": [
    "res = pat.split(r'aaa--bbb==ccc__ddd')\n",
    "res"
   ]
  },
  {
   "cell_type": "markdown",
   "metadata": {},
   "source": [
    "Написать регулярное выражение для разбивки этой строки на список `['aaa','bbb','ccc','ddd']`."
   ]
  },
  {
   "cell_type": "markdown",
   "metadata": {},
   "source": [
    "2) Получить первое слово из произвольной строки.\n",
    "\n",
    "Например, для `'Yesterday, All my troubles seemed so far away'` должно возвращаться `'Yesterday'`."
   ]
  },
  {
   "cell_type": "code",
   "execution_count": 32,
   "metadata": {},
   "outputs": [
    {
     "name": "stdout",
     "output_type": "stream",
     "text": [
      "Yesterday, All my troubles seemed so far away\n",
      "Yesterday\n"
     ]
    }
   ],
   "source": [
    "s = input()\n",
    "p = re.compile(r'([\\w]+(( )|([a-zA-zа-яА-ЯёЁ])))')  \n",
    "g = p.match(s)\n",
    "print(g.group(0))"
   ]
  },
  {
   "cell_type": "markdown",
   "metadata": {},
   "source": [
    "3) Получить последнее слово из произвольной строки."
   ]
  },
  {
   "cell_type": "code",
   "execution_count": 33,
   "metadata": {},
   "outputs": [
    {
     "name": "stdout",
     "output_type": "stream",
     "text": [
      " away\n"
     ]
    }
   ],
   "source": [
    "s = s[::-1]\n",
    "p = re.compile(r'([\\w]+(( )|([a-zA-zа-яА-ЯёЁ])))')  \n",
    "g = p.match(s)\n",
    "print(g.group(0)[::-1])"
   ]
  },
  {
   "cell_type": "markdown",
   "metadata": {},
   "source": [
    "4) В следующем отрывке найти все слова, которые начинаются на гласную букву:"
   ]
  },
  {
   "cell_type": "code",
   "execution_count": 45,
   "metadata": {},
   "outputs": [],
   "source": [
    "text = '''My uncle -- high ideals  inspire him;\n",
    "but when past joking he fell sick,\n",
    "he really forced one to admire him --\n",
    "and never played a shrewder trick.\n",
    "Let others learn from his example!\n",
    "But God, how deadly dull to sample\n",
    "sickroom attendance night and day\n",
    "and never stir a foot away!'''"
   ]
  },
  {
   "cell_type": "code",
   "execution_count": 46,
   "metadata": {
    "scrolled": true
   },
   "outputs": [
    {
     "name": "stdout",
     "output_type": "stream",
     "text": [
      "uncle\n",
      "ideals\n",
      "inspire\n",
      "one\n",
      "admire\n",
      "and\n",
      "a\n",
      "others\n",
      "example\n",
      "attendance\n",
      "and\n",
      "and\n",
      "a\n",
      "away\n"
     ]
    }
   ],
   "source": [
    "z = re.compile(r'\\n')\n",
    "res = z.split(text) #разделяю отрывок на список по переходу на новыую строку\n",
    "#print(res) \n",
    "q = re.compile(r' ')\n",
    "for i, symb in enumerate(res):\n",
    "    symb = q.split(symb) #разделение получившегося списка на ещё один по пробелам\n",
    "    #print(symb)\n",
    "    p = re. compile(r'(?:(?:[a]|[e]|[i]|[o]|[u]|[y])\\w*)')\n",
    "    for i1, symb1 in enumerate(symb):\n",
    "        t = p.match(symb1)\n",
    "        if t != None:\n",
    "            print(t.group(0)) "
   ]
  },
  {
   "cell_type": "code",
   "execution_count": 47,
   "metadata": {},
   "outputs": [
    {
     "data": {
      "text/plain": [
       "['uncle',\n",
       " 'ideals',\n",
       " 'inspire',\n",
       " 'one',\n",
       " 'admire',\n",
       " 'and',\n",
       " 'a',\n",
       " 'others',\n",
       " 'example',\n",
       " 'attendance',\n",
       " 'and',\n",
       " 'and',\n",
       " 'a',\n",
       " 'away']"
      ]
     },
     "execution_count": 47,
     "metadata": {},
     "output_type": "execute_result"
    }
   ],
   "source": [
    "#простой код!!!:   \n",
    "pattern = re. compile(r'\\b[aeiou]\\w*', re.I)\n",
    "pattern.findall(text)"
   ]
  },
  {
   "cell_type": "raw",
   "metadata": {},
   "source": [
    "5) В отрывке из задания 4) найти первое слово каждой строки."
   ]
  },
  {
   "cell_type": "code",
   "execution_count": 76,
   "metadata": {},
   "outputs": [
    {
     "name": "stdout",
     "output_type": "stream",
     "text": [
      "My \n",
      "but \n",
      "he \n",
      "and \n",
      "Let \n",
      "But \n",
      "sickroom \n",
      "and \n"
     ]
    }
   ],
   "source": [
    "p = re.compile(r'\\n')\n",
    "res = p.split(text)\n",
    "p = re.compile(r'([\\w]+(( )|([a-zA-zа-яА-ЯёЁ])))')\n",
    "for i, symb in enumerate(res): \n",
    "    g = p.match(symb)\n",
    "    print(g.group(0))"
   ]
  },
  {
   "cell_type": "markdown",
   "metadata": {},
   "source": [
    "6) Проверить корректность введенного email.\n",
    "\n",
    "Считать email корректным, у которого в имени почтового ящика не более 25 латинских букв или цифр, а доменная часть состоит из двух доменов, разделеных точкой. В домене верхнего уровня от 2 до 6 латинских символов, а в домене второго уровня - от 3 до 10 латинских символов."
   ]
  },
  {
   "cell_type": "code",
   "execution_count": 12,
   "metadata": {},
   "outputs": [],
   "source": [
    "#Спросить!!!!!!!!!! \n",
    "p = re.compile(r'''^[a-z0-9]{1,25} #имя пользователя\n",
    "@\n",
    "[a-z]{3,10}[.][a-z]{2,6}$''', re.X | re.I) #[a-z]{3,10}[0-9]*[a-z]*[.][a-z]{2,6}[0-9]*[a-z]*@\\w+[.]\\w+"
   ]
  },
  {
   "cell_type": "code",
   "execution_count": 13,
   "metadata": {},
   "outputs": [
    {
     "name": "stdout",
     "output_type": "stream",
     "text": [
      "Amkarperm1991@gmail.com\n",
      "Правильный email\n"
     ]
    }
   ],
   "source": [
    "print('Правильный email' if p.search(input()) else 'Неправльный email')"
   ]
  },
  {
   "cell_type": "raw",
   "metadata": {},
   "source": [
    "7) В следующей строке найти все email-адреса и вывести только доменные имена. Описание того, что считается корректным электронным адресом, взять из задания 6)."
   ]
  },
  {
   "cell_type": "code",
   "execution_count": 33,
   "metadata": {},
   "outputs": [],
   "source": [
    "s = 'test@test.ru ru.wikipedia.org mail@mail.com ref 123456789_adfasfd@mail.ru Am14kar.Pe88r@gmail.com Amkarperm1991@gmail.com'"
   ]
  },
  {
   "cell_type": "code",
   "execution_count": 34,
   "metadata": {},
   "outputs": [
    {
     "name": "stdout",
     "output_type": "stream",
     "text": [
      "@test.ru\n",
      "@mail.com\n",
      "@gmail.com\n"
     ]
    }
   ],
   "source": [
    "#Спросить!!!!!!!!!!!!!\n",
    "p = re.compile(r'[ ]')\n",
    "s = p.split(s)\n",
    "p = re.compile(r'''^[a-z0-9]{1,25} #имя пользователя\n",
    "@\n",
    "[a-z]{3,10}[.][a-z]{2,6}$''', re.X | re.I)\n",
    "#print(s)\n",
    "for i, symb in enumerate(s):\n",
    "    if (p.search(symb)):\n",
    "        print(symb[int(symb.find('@')):])"
   ]
  },
  {
   "cell_type": "markdown",
   "metadata": {},
   "source": [
    "8) Проверить корректность введенного номера мобильного телефона. Корректными номерами считаются:"
   ]
  },
  {
   "cell_type": "raw",
   "metadata": {},
   "source": [
    "+7(999)999-99-99\n",
    "+7 (999) 999-99-99\n",
    "+7 999 999-99-99 |([+][7][ ][(][9]{3}[)][ ][9]{3}[-][9]{2}[-][9]{2})|([+][7][ ][9]{3}[ ][9]{3}[-][9]{2}[-][9]{2})|([+][7][ ][9]{3}[ ][9]{3}[ ][9]{2}[ ][9]{2})\n",
    "+7 999 999 99 99\n",
    "+79999999999"
   ]
  },
  {
   "cell_type": "code",
   "execution_count": 63,
   "metadata": {},
   "outputs": [
    {
     "name": "stdout",
     "output_type": "stream",
     "text": [
      "Введите номер мобильного телефона: +79519485094\n",
      "Введено правильно\n"
     ]
    }
   ],
   "source": [
    "tel = input('Введите номер мобильного телефона: ')\n",
    "p = re.compile(r'([+][7][(][0-9]{3}[)][0-9]{3}[-][0-9]{2}[-][0-9]{2})|([+][7][ ][(][0-9]{3}[)][ ][0-9]{3}[-][0-9]{2}[-][0-9]{2})|([+][7][ ][0-9]{3}[ ][0-9]{3}[-][0-9]{2}[-][0-9]{2})|([+][7][ ][0-9]{3}[ ][0-9]{3}[ ][0-9]{2}[ ][0-9]{2})|([+][7][0-9]{10})')\n",
    "if p.match(tel):\n",
    "    print('Введено правильно')\n",
    "else: \n",
    "    print('Введено неправильно')"
   ]
  },
  {
   "cell_type": "code",
   "execution_count": null,
   "metadata": {},
   "outputs": [],
   "source": []
  }
 ],
 "metadata": {
  "kernelspec": {
   "display_name": "Python 3",
   "language": "python",
   "name": "python3"
  },
  "language_info": {
   "codemirror_mode": {
    "name": "ipython",
    "version": 3
   },
   "file_extension": ".py",
   "mimetype": "text/x-python",
   "name": "python",
   "nbconvert_exporter": "python",
   "pygments_lexer": "ipython3",
   "version": "3.6.5"
  }
 },
 "nbformat": 4,
 "nbformat_minor": 2
}
