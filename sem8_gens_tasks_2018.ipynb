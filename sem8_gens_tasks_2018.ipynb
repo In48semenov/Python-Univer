{
 "cells": [
  {
   "cell_type": "markdown",
   "metadata": {},
   "source": [
    "# Задания по семинару 8\n",
    "\n",
    "# Генераторы"
   ]
  },
  {
   "cell_type": "markdown",
   "metadata": {},
   "source": [
    "1) Используя список ``lst1``, создать новый список, в котором каждый элемент списка ``lst1`` будет заменен значением длины строки соответствующего элемента в списке ``lst1``. Использовать генераторы, решить задачу в одну строку."
   ]
  },
  {
   "cell_type": "raw",
   "metadata": {},
   "source": [
    "lst1 = ['1', '123', '12', '1234', '1', '123']"
   ]
  },
  {
   "cell_type": "markdown",
   "metadata": {},
   "source": [
    "2) Подсчитать количество строк в списке ``lst1``, длина которых больше 2. Использовать генераторы, решить задачу в одну строку."
   ]
  },
  {
   "cell_type": "raw",
   "metadata": {},
   "source": [
    "lst1 = ['1', '123', '12', '1234', '1', '123']"
   ]
  },
  {
   "cell_type": "markdown",
   "metadata": {},
   "source": [
    "3) Создать список, в котором все числа списка ``lst2`` умножены на их номер (не индекс) в списке. Использовать генераторы, решить задачу в одну строку."
   ]
  },
  {
   "cell_type": "raw",
   "metadata": {},
   "source": [
    "lst2 = [2, 4, -2, -3, 0 , 11 , 3, -1]"
   ]
  },
  {
   "cell_type": "markdown",
   "metadata": {},
   "source": [
    "4) Создать список, в котором все отрицательные числа списка ``lst2`` исключены, остальные элементы сохранены в том же порядке. Использовать генераторы, решить задачу в одну строку."
   ]
  },
  {
   "cell_type": "raw",
   "metadata": {},
   "source": [
    "lst2 = [2, 4, -2, -3, 0 , 11 , 3, -1]"
   ]
  },
  {
   "cell_type": "markdown",
   "metadata": {},
   "source": [
    "5) Создать список, в котором все отрицательные числа списка ``lst2`` заменены на их номер (не индекс) в списке, остальные элементы сохранены на своих местах. Использовать генераторы и тернарный оператор, решить задачу в одну строку."
   ]
  },
  {
   "cell_type": "raw",
   "metadata": {},
   "source": [
    "lst2 = [2, 4, -2, -3, 0 , 11 , 3, -1]"
   ]
  },
  {
   "cell_type": "markdown",
   "metadata": {},
   "source": [
    "6) На основе полученной от пользователя строки (не содержащей повторяющихся символов) создать словарь, в котором каждому символу строки будет соответствовать номер символа в строке. Использовать генераторы, решить задачу в одну строку.\n",
    "\n",
    "Например:"
   ]
  },
  {
   "cell_type": "raw",
   "metadata": {},
   "source": [
    "'abcdef' -> {'a': 1, 'b': 2, 'c': 3, 'd': 4, 'e': 5, 'f': 6}"
   ]
  },
  {
   "cell_type": "markdown",
   "metadata": {},
   "source": [
    "7) Определить, сколько элементов из заданного списка являются ключами в словаре. Использовать генераторы, решить задачу в одну строку. Например, для"
   ]
  },
  {
   "cell_type": "raw",
   "metadata": {},
   "source": [
    "lst3 = ['a', 'c', 'e', 'g', 'i']\n",
    "dict1 = {'a': 1, 'b': 2, 'c': 3, 'd': 4}"
   ]
  },
  {
   "cell_type": "markdown",
   "metadata": {},
   "source": [
    "ответ: 2."
   ]
  },
  {
   "cell_type": "markdown",
   "metadata": {},
   "source": [
    "8) Для строки ``evgene_o`` создать словарь, где для всех символов, встречающихся в строке хранится число: сколько раз символ встретился в строке ``evgene_o``. Использовать генераторы, решить задачу в одну строку."
   ]
  },
  {
   "cell_type": "code",
   "execution_count": 4,
   "metadata": {
    "collapsed": true
   },
   "outputs": [],
   "source": [
    "evgene_o = \"\"\"My uncle -- high ideals inspire him;\n",
    "     but when past joking he fell sick,\n",
    "     he really forced one to admire him --\n",
    "     and never played a shrewder trick.\n",
    "     Let others learn from his example!\n",
    "     But God, how deadly dull to sample\n",
    "     sickroom attendance night and day\n",
    "     and never stir a foot away!\n",
    "     And the sly baseness, fit to throttle,\n",
    "     of entertaining the half-dead:\n",
    "     one smoothes the pillows down in bed,\n",
    "     and glumly serves the medicine bottle,\n",
    "     and sighs, and asks oneself all through:\n",
    "     When will the devil come for you?\n",
    "     \n",
    "     Such were a young rake's meditations --\n",
    "     by will of Zeus, the high and just,\n",
    "     the legatee of his relations --\n",
    "     as horses whirled him through the dust.\n",
    "     Friends of my Ruslan and Lyudmila,\n",
    "     without preliminary feeler\n",
    "     let me acquaint you on the nail\n",
    "     with this the hero of my tale:\n",
    "     Onegin, my good friend, was littered\n",
    "     and bred upon the Neva's brink,\n",
    "     where you were born as well, I think,\n",
    "     reader, or where you've shone and glittered!\n",
    "     There once I too strolled back and forth:\n",
    "     but I'm allergic to the North...\"\"\""
   ]
  },
  {
   "cell_type": "markdown",
   "metadata": {},
   "source": [
    "9) Используя словарь, полученный в задаче 8), посчитать количество строчных букв в строке ``evgene_o``. Использовать генераторы, решить задачу в одну строку."
   ]
  },
  {
   "cell_type": "markdown",
   "metadata": {},
   "source": [
    "10) Просуммировать произведения ключей на соответствующие им значения из словаря ``dict4``. Использовать генераторы, решить задачу в одну строку."
   ]
  },
  {
   "cell_type": "raw",
   "metadata": {},
   "source": [
    "dict4 = {1: 10, 2: 20, 3: 30, 4: 40, 5: 50, 6: 60}"
   ]
  },
  {
   "cell_type": "markdown",
   "metadata": {},
   "source": [
    "11) На базе словаря ``dict6`` создать словарь ``dict7``, в котором нет пар ключ-значение с ключами, встречающимися в словаре `` dict5``. Использовать генераторы, решить задачу в одну строку."
   ]
  },
  {
   "cell_type": "raw",
   "metadata": {},
   "source": [
    "dict5 = {'a': 3, 'b': 4, 'c': 5, 'd': 6, 'e': 7, 'f': 8, 'g': 9}\n",
    "dict6 = {'e': 20, 'f': 21, 'g': 22, 'h': 23, 'i': 24, 'j': 25, 'k': 26, 'l': 27}"
   ]
  },
  {
   "cell_type": "markdown",
   "metadata": {},
   "source": [
    "12)\\* Создать новый словарь ``dict8``, в котором есть все пары ключ-значения из ``dict5``, а для ключей, которые есть в ``dict6``, но отсутствуют в ``dict5``, добавить соответствующие пары ключ-значения в ``dict8``. Использовать генераторы, решить задачу в одну строку."
   ]
  },
  {
   "cell_type": "raw",
   "metadata": {},
   "source": [
    "dict5 = {'a': 3, 'b': 4, 'c': 5, 'd': 6, 'e': 7, 'f': 8, 'g': 9}\n",
    "dict6 = {'e': 20, 'f': 21, 'g': 22, 'h': 23, 'i': 24, 'j': 25, 'k': 26, 'l': 27}"
   ]
  },
  {
   "cell_type": "markdown",
   "metadata": {},
   "source": [
    "13) В словаре, полученном в задаче 8) со стихотворением, удалить все пары ключ-значение для символов, встречающихся менее 5 раз. Использовать генераторы, решить задачу в одну строку."
   ]
  },
  {
   "cell_type": "markdown",
   "metadata": {},
   "source": [
    "14) Дан словарь. На его основе создать новый словарь, в котором ключи и значения поменяны местами. Использовать генераторы, решить задачу в одну строку.\n",
    "\n",
    "Например:"
   ]
  },
  {
   "cell_type": "raw",
   "metadata": {},
   "source": [
    "{'a': 1, 'b': 2, 'c': 3, 'd': 4} -> {1: 'a', 2: 'b', 3: 'c', 4: 'd'}"
   ]
  },
  {
   "cell_type": "markdown",
   "metadata": {
    "collapsed": true
   },
   "source": [
    "15) Создать список из всех цифр, встречающихся в введенной пользователем строке. Использовать генераторы, решить задачу в одну строку.\n",
    "\n",
    "Например:"
   ]
  },
  {
   "cell_type": "raw",
   "metadata": {},
   "source": [
    "'fghio345jkw23ihi2' -> [3, 4, 5, 2, 3, 2]"
   ]
  },
  {
   "cell_type": "markdown",
   "metadata": {},
   "source": [
    "16) Написать програмный код, который генерирует вложенные списки, образующие единичную матрицу 4 на 4. Использовать генераторы, решить задачу в одну строку. Результат работы алгоритма (вывод на экран может быть однострочным):"
   ]
  },
  {
   "cell_type": "raw",
   "metadata": {},
   "source": [
    "[[1, 0, 0, 0],\n",
    " [0, 1, 0, 0],\n",
    " [0, 0, 1, 0],\n",
    " [0, 0, 0, 1]]"
   ]
  },
  {
   "cell_type": "code",
   "execution_count": null,
   "metadata": {
    "collapsed": true
   },
   "outputs": [],
   "source": []
  }
 ],
 "metadata": {
  "kernelspec": {
   "display_name": "Python 3",
   "language": "python",
   "name": "python3"
  },
  "language_info": {
   "codemirror_mode": {
    "name": "ipython",
    "version": 3
   },
   "file_extension": ".py",
   "mimetype": "text/x-python",
   "name": "python",
   "nbconvert_exporter": "python",
   "pygments_lexer": "ipython3",
   "version": "3.6.1"
  }
 },
 "nbformat": 4,
 "nbformat_minor": 2
}
