{
 "cells": [
  {
   "cell_type": "markdown",
   "metadata": {},
   "source": [
    "# Задания по семинару 6\n",
    "\n",
    "# Списки"
   ]
  },
  {
   "cell_type": "markdown",
   "metadata": {},
   "source": [
    "1) Создать список, состоящий из нечетных чисел от 5 до 25."
   ]
  },
  {
   "cell_type": "code",
   "execution_count": 1,
   "metadata": {},
   "outputs": [
    {
     "name": "stdout",
     "output_type": "stream",
     "text": [
      "[5, 7, 9, 11, 13, 15, 17, 19, 21, 23]\n"
     ]
    }
   ],
   "source": [
    "print(list(range(5, 25, 2)))"
   ]
  },
  {
   "cell_type": "markdown",
   "metadata": {},
   "source": [
    "2) Создать список из чисел 31, 24, 17 тремя способами:\n",
    "- перечисление,\n",
    "- на основе другого списка (по сути, создать копию списка),\n",
    "- с помощью функции ``range``.\n",
    "\n",
    "Вывести списки на экран.\n",
    "\n",
    "Создать и вывести на экран список, состоящий из полученных списков (список списков)."
   ]
  },
  {
   "cell_type": "code",
   "execution_count": 10,
   "metadata": {},
   "outputs": [
    {
     "name": "stdout",
     "output_type": "stream",
     "text": [
      "[31, 24, 17]\n"
     ]
    }
   ],
   "source": [
    "lst = [31, 24, 17]\n",
    "print(lst)"
   ]
  },
  {
   "cell_type": "code",
   "execution_count": 11,
   "metadata": {},
   "outputs": [
    {
     "name": "stdout",
     "output_type": "stream",
     "text": [
      "[31, 24, 17]\n"
     ]
    }
   ],
   "source": [
    "lst1 = lst[:]\n",
    "print(lst1)"
   ]
  },
  {
   "cell_type": "code",
   "execution_count": 9,
   "metadata": {},
   "outputs": [
    {
     "name": "stdout",
     "output_type": "stream",
     "text": [
      "[31, 24, 17]\n"
     ]
    }
   ],
   "source": [
    "print(list(range(31, 16, -7)))"
   ]
  },
  {
   "cell_type": "markdown",
   "metadata": {},
   "source": [
    "3) Создать список из 10 членов геометрической прогрессии со знаменателем 3 начинающейся с 2."
   ]
  },
  {
   "cell_type": "code",
   "execution_count": 13,
   "metadata": {},
   "outputs": [
    {
     "name": "stdout",
     "output_type": "stream",
     "text": [
      "[2, 6, 18, 54, 162, 486, 1458, 4374, 13122, 39366]\n"
     ]
    }
   ],
   "source": [
    "zn = 3\n",
    "lst = [2]\n",
    "for i in range(1, 10):\n",
    "    lst.append(zn*lst[i-1])\n",
    "print(lst)"
   ]
  },
  {
   "cell_type": "markdown",
   "metadata": {},
   "source": [
    "4) Создать и вывести на экран список из всех цифр, встречающихся в введенной пользователем строке. Например:"
   ]
  },
  {
   "cell_type": "raw",
   "metadata": {},
   "source": [
    "'fghio345jkw23ihi2' -> [3, 4, 5, 2, 3, 2]"
   ]
  },
  {
   "cell_type": "code",
   "execution_count": 28,
   "metadata": {},
   "outputs": [
    {
     "name": "stdout",
     "output_type": "stream",
     "text": [
      "fghio345jkw23ihi2\n",
      "[3, 4, 5, 2, 3, 2]\n"
     ]
    }
   ],
   "source": [
    "s = input()\n",
    "lst = []\n",
    "for i, symb in enumerate(s):\n",
    "    if symb.isdigit():\n",
    "            lst.append(int(symb))\n",
    "print(lst)"
   ]
  },
  {
   "cell_type": "code",
   "execution_count": 29,
   "metadata": {},
   "outputs": [
    {
     "name": "stdout",
     "output_type": "stream",
     "text": [
      "fghio345jkw23ihi2\n",
      "[3, 4, 5, 2, 3, 2]\n"
     ]
    }
   ],
   "source": [
    "digits = []\n",
    "\n",
    "for c in input():\n",
    "    if c.isdigit():\n",
    "        digits.append(int(c))\n",
    "        \n",
    "print(digits)"
   ]
  },
  {
   "cell_type": "markdown",
   "metadata": {},
   "source": [
    "5) Создать список из всех слов имеющихся во введенной пользователем строке. Например:"
   ]
  },
  {
   "cell_type": "raw",
   "metadata": {},
   "source": [
    "'Hello, my friend! How are you?' -> ['Hello', 'my', 'friend', 'How', 'are', 'you']"
   ]
  },
  {
   "cell_type": "code",
   "execution_count": 13,
   "metadata": {},
   "outputs": [
    {
     "name": "stdout",
     "output_type": "stream",
     "text": [
      "Hello, my friend! How are you?\n",
      "Hello\n",
      "my\n",
      "friend\n",
      "How\n",
      "are\n",
      "you\n",
      "['Hello', 'my', 'friend', 'How', 'are', 'you']\n"
     ]
    }
   ],
   "source": [
    "s = input()\n",
    "lst = s.split()\n",
    "lst2 = []\n",
    "for i in lst:\n",
    "    b = ''\n",
    "    for i1, symb in enumerate(i):\n",
    "        if ('A' <= symb <='z') or ('А' <= symb <='я'):\n",
    "            b += symb\n",
    "    print(b)\n",
    "    lst2.append(b)\n",
    "print(lst2)\n"
   ]
  },
  {
   "cell_type": "raw",
   "metadata": {},
   "source": [
    "6) Дан список с произвольным количеством элементов. Если в заданный список входит слово ``\"repeat\"``, а последний элемент списка - это число, то продублировать все элементы списка, кроме двух последних. Количество копий соответствует числу, являющимся последним элементов списка. Последние два элемента списка просто добавляются в конец нового списка (без дублирования). Например:"
   ]
  },
  {
   "cell_type": "raw",
   "metadata": {},
   "source": [
    "['input', 'repeat', 'string', 2] -> ['input', 'repeat', 'input', 'repeat', 'string', 2]"
   ]
  },
  {
   "cell_type": "code",
   "execution_count": 14,
   "metadata": {},
   "outputs": [
    {
     "name": "stdout",
     "output_type": "stream",
     "text": [
      "input repeat string 3\n",
      "['input', 'repeat', 'input', 'repeat', 'input', 'repeat', 'string', '3']\n"
     ]
    }
   ],
   "source": [
    "s = input()\n",
    "s = s.split()\n",
    "#print(s)\n",
    "d = len(s)\n",
    "k = 0\n",
    "for i in s:\n",
    "    if i == \"repeat\":\n",
    "        k += 1\n",
    "        break\n",
    "lst = s[:d-2]\n",
    "#print(lst)\n",
    "if s[d-1].isdigit and k!=0:\n",
    "    lst = lst * int(s[d-1])\n",
    "        #print(lst)\n",
    "    lst.extend(s[d-2:d])\n",
    "    print(lst)\n",
    "else:\n",
    "    print(s)"
   ]
  },
  {
   "cell_type": "markdown",
   "metadata": {},
   "source": [
    "7) Запросить у пользователя две произвольные строки. Создать список, который состоит из введенных пользователем строк, их длин и результата проверки соблюдения лексикографического порядка (идет ли первая строка раньше второй).\n",
    "\n",
    "Запросить у пользователя, что он хочет узнать, и записать это в переменную ``output``. Возможны два варианта: ``'lengths'`` и ``'order'``. В зависимости от значения ``output`` путем обращения к элементам созданного ранее списка выводить либо длины строк (``output='lengths'``, в формате ``\"Длины строк: 4 и 5\"``), либо описание порядка (``output='order'``, в формате ``\"Строка 'первая' идет ПОСЛЕ строки 'вторая'\"``)."
   ]
  },
  {
   "cell_type": "code",
   "execution_count": 23,
   "metadata": {},
   "outputs": [
    {
     "name": "stdout",
     "output_type": "stream",
     "text": [
      "Amkar\n",
      "Perm\n",
      "Что вы хотите узнать?: order\n",
      "Строка 'Amkar' идет ПОСЛЕ строки 'Perm'\n"
     ]
    }
   ],
   "source": [
    "s1 = input()\n",
    "s2 = input()\n",
    "output = input('Что вы хотите узнать?: ')\n",
    "d1 = len(s1)\n",
    "d2 = len(s2)\n",
    "lst = [s1, s2, 'Длина строк:', d1, 'и', d2, \"Строка 'вторая' идет ПОСЛЕ строки 'первая'\"] \n",
    "if output == 'lengths':\n",
    "    print('Длины строк: {0} и {1}'.format(d1, d2))\n",
    "else:\n",
    "    print(\"Строка '{}' идет ПОСЛЕ строки '{}'\".format(s1, s2))"
   ]
  },
  {
   "cell_type": "markdown",
   "metadata": {},
   "source": [
    "8) Запросить у пользователя 2 целых положительных числа и сохранить их в переменные ``max_val`` и ``repeat``.\n",
    "\n",
    "Создать список из целых чисел со значениями от ``1`` до ``max_val`` включительно, повторенными ``repeat`` раз.\n",
    "\n",
    "Например, для ``max_val=4``, ``repeat=3``  должен быть создан список: ``[1, 2, 3, 4, 1, 2, 3, 4, 1, 2, 3, 4]``."
   ]
  },
  {
   "cell_type": "code",
   "execution_count": 27,
   "metadata": {},
   "outputs": [
    {
     "name": "stdout",
     "output_type": "stream",
     "text": [
      "Ведите положительное целое число: 4\n",
      "Ведите положительное целое число: 5\n",
      "[1, 2, 3, 4, 1, 2, 3, 4, 1, 2, 3, 4, 1, 2, 3, 4, 1, 2, 3, 4]\n"
     ]
    }
   ],
   "source": [
    "max_val = int(input('Ведите положительное целое число: '))\n",
    "repeat = int(input('Ведите положительное целое число: '))\n",
    "print(list(range(1, max_val+1))*repeat)"
   ]
  },
  {
   "cell_type": "markdown",
   "metadata": {},
   "source": [
    "9) Даны два списка произвольной длины, элементами которых являются целые числа. Во втором списке умножить элементы, отсутствующие в первом списке, на 10. (Новые списки создавать нельзя, необходимо изменить существующий.)"
   ]
  },
  {
   "cell_type": "code",
   "execution_count": 41,
   "metadata": {},
   "outputs": [
    {
     "name": "stdout",
     "output_type": "stream",
     "text": [
      "1 2 3 4 5 \n",
      "1 6 7 8 45 0\n",
      "[1, 60, 70, 80, 450, 0]\n"
     ]
    }
   ],
   "source": [
    "s1 = input().split()\n",
    "s2 = input().split()\n",
    "\n",
    "for i, symb in enumerate(s2):\n",
    "    if symb in s1:\n",
    "        s2[i] = int(s2[i])\n",
    "    else:\n",
    "        s2[i] = int(s2[i])*10\n",
    "print(s2)"
   ]
  },
  {
   "cell_type": "markdown",
   "metadata": {},
   "source": [
    "10) Из произвольной строки создать список. Вместо каждой буквы ``\"s\"`` (без учета регистра), стоящей не на первом и не на последнем месте, вставить в список строку из удвоенного предыдущего символа и одного следующего.\n",
    "\n",
    "Например:"
   ]
  },
  {
   "cell_type": "raw",
   "metadata": {},
   "source": [
    "\"test_Stringss\" -> ['t', 'e', 'eet', 't', '_', '__t', 't', 'r', 'i', 'n', 'g', 'ggs', 's']"
   ]
  },
  {
   "cell_type": "code",
   "execution_count": 2,
   "metadata": {},
   "outputs": [
    {
     "name": "stdout",
     "output_type": "stream",
     "text": [
      "test_Stringss\n",
      "['t', 'e', 'eet', 't', '_', '__t', 't', 'r', 'i', 'n', 'g', 'ggs', 's']\n"
     ]
    }
   ],
   "source": [
    "s = list(input())\n",
    "for i in range(1, len(s)-1):\n",
    "    if s[i] == 's' or s[i] == 'S':\n",
    "        s[i] = s[i-1]*2 + s[i+1]\n",
    "print(s)\n"
   ]
  },
  {
   "cell_type": "markdown",
   "metadata": {},
   "source": [
    "11) Запросить у пользователя целое положительное число. Данное число - это длина списка.\n",
    "\n",
    "Организовать заполнение списка заданной длины пользовательскими значениями, полученными с помощью функции ``input``."
   ]
  },
  {
   "cell_type": "code",
   "execution_count": 4,
   "metadata": {},
   "outputs": [
    {
     "name": "stdout",
     "output_type": "stream",
     "text": [
      "3\n",
      "Amkar\n",
      "perm\n",
      "dream\n",
      "['Amkar', 'perm', 'dream']\n"
     ]
    }
   ],
   "source": [
    "ch = int(input())\n",
    "lst= []\n",
    "for i in range(ch):\n",
    "    lst.append(input())\n",
    "print(lst)"
   ]
  },
  {
   "cell_type": "markdown",
   "metadata": {
    "collapsed": true
   },
   "source": [
    "12) Написать програмный код, который генерирует вложнный список образующий единичную матрицу 4 на 4. Результат работы алгоритма:"
   ]
  },
  {
   "cell_type": "raw",
   "metadata": {},
   "source": [
    "[[1, 0, 0, 0],\n",
    " [0, 1, 0, 0],\n",
    " [0, 0, 1, 0],\n",
    " [0, 0, 0, 1]]"
   ]
  },
  {
   "cell_type": "code",
   "execution_count": 44,
   "metadata": {},
   "outputs": [
    {
     "name": "stdout",
     "output_type": "stream",
     "text": [
      "[1, 0, 0, 0]\n",
      "[0, 1, 0, 0]\n",
      "[0, 0, 1, 0]\n",
      "[0, 0, 0, 1]\n"
     ]
    }
   ],
   "source": [
    "#????????????????внешние скобки\n",
    "lst = []\n",
    "for i in range(4):\n",
    "    lst1 = []\n",
    "    for j in range(4):\n",
    "        if i == j:\n",
    "            lst1.append(1)\n",
    "        else:\n",
    "            lst1.append(0)\n",
    "    lst.append(lst1)\n",
    "for i in range(4):\n",
    "    print(lst[i])"
   ]
  },
  {
   "cell_type": "raw",
   "metadata": {},
   "source": [
    "13) В списке целых чисел найти произведение всех чисел, больших чем 10 и меньших чем 20, за исключением 13. Проверить на списке ``[2, 11, 21, 16, 7, 13, 18, 12]`` (ответ: 38016)."
   ]
  },
  {
   "cell_type": "code",
   "execution_count": 45,
   "metadata": {},
   "outputs": [
    {
     "name": "stdout",
     "output_type": "stream",
     "text": [
      "Введите целые числа: 2 11 21 16 7 13 18 12\n",
      "38016\n"
     ]
    }
   ],
   "source": [
    "s = input('Введите целые числа: ').split()\n",
    "pr = 1\n",
    "for i in s:\n",
    "    if (10<int(i)<20) and (int(i) != 13):\n",
    "        pr *= int(i)\n",
    "print(pr)\n",
    "        "
   ]
  },
  {
   "cell_type": "markdown",
   "metadata": {},
   "source": [
    "14) Дан целочисленный список. На его основе создать новый список, в котором все отрицательные числа исходного списка заменены на их индекс, а остальные элементы сохранены на своих местах."
   ]
  },
  {
   "cell_type": "code",
   "execution_count": 51,
   "metadata": {},
   "outputs": [
    {
     "name": "stdout",
     "output_type": "stream",
     "text": [
      "Введите целые числа: 1 2 3 -1 -100 23\n",
      "[1, 2, 3, 3, 4, 23]\n"
     ]
    }
   ],
   "source": [
    "s = input('Введите целые числа: ').split()\n",
    "for i, symb in enumerate(s):\n",
    "    if int(symb) < 0:\n",
    "        s[i] = i\n",
    "    else:\n",
    "        s[i] = int(symb)\n",
    "print(s)"
   ]
  },
  {
   "cell_type": "markdown",
   "metadata": {},
   "source": [
    "15) Убрать все дубликаты в списке."
   ]
  },
  {
   "cell_type": "code",
   "execution_count": 27,
   "metadata": {},
   "outputs": [
    {
     "name": "stdout",
     "output_type": "stream",
     "text": [
      "1 2 2 3 4 3 5 4 6 6\n",
      "1 2 3 5 4 6 "
     ]
    }
   ],
   "source": [
    "s = input().split()\n",
    "#print(len(s))\n",
    "dub = s\n",
    "for i in range(len(s)-1):\n",
    "    k=0\n",
    "    for i1 in dub:\n",
    "        if s[i] == i1:\n",
    "            k+=1\n",
    "    #print(k)\n",
    "    if k>1:\n",
    "        for i1 in range(i+1, len(s)):\n",
    "            s[i] == s[i1]\n",
    "            s[i] = 0\n",
    "#print(s)\n",
    "for i in range(len(s)):\n",
    "    if int(s[i]) != 0:\n",
    "        print (s[i], end=' ')"
   ]
  },
  {
   "cell_type": "markdown",
   "metadata": {},
   "source": [
    "16) Дан список чисел. Найти элемент, следующий за минимальным в порядке возрастания («второй минимум»). Например, для списка ``lst = [1, 2, 3, 1, 2, 5, 6, 6, 7, 8]`` второй минимум - это 2."
   ]
  },
  {
   "cell_type": "code",
   "execution_count": 4,
   "metadata": {},
   "outputs": [
    {
     "name": "stdout",
     "output_type": "stream",
     "text": [
      "1 2 3 1 2 5 6 6 7 8\n",
      "2\n"
     ]
    }
   ],
   "source": [
    "s = input().split()\n",
    "min = int(s[0])\n",
    "for i in s:\n",
    "    if int(i) < min:\n",
    "        min = int(i)\n",
    "min1 = min + 1\n",
    "for i in s:\n",
    "    if (int(i)>min) and (int(i)<=min1):\n",
    "        min1 = int(i)\n",
    "print(min1)"
   ]
  },
  {
   "cell_type": "markdown",
   "metadata": {},
   "source": [
    "17) Заданы две заранее неизвестные строки, в которых слова разделены пробелами. Из этих двух строк составить одну новую, в которой слова из первой и второй строки будут чередоваться, при этом порядок слов будет сохранен. Если количество слов в строках различное, то закончить создание результирующей строки, как только слова в одной из исходных строк закончатся. Для преобразований использовать списки слов.\n",
    "\n",
    "Например:"
   ]
  },
  {
   "cell_type": "raw",
   "metadata": {},
   "source": [
    "s1 = 'один два три'\n",
    "s2 = 'альфа бетта гамма'\n",
    "\n",
    "result = 'один альфа два бетта три гамма'"
   ]
  },
  {
   "cell_type": "code",
   "execution_count": 4,
   "metadata": {
    "scrolled": true
   },
   "outputs": [
    {
     "name": "stdout",
     "output_type": "stream",
     "text": [
      "один два три\n",
      "альфа бетта гамма\n",
      "один альфа два бетта три гамма\n"
     ]
    }
   ],
   "source": [
    "s1 = input().split()\n",
    "s2 = input().split()\n",
    "s3 = []\n",
    "if len(s1) > len(s2):\n",
    "    for i, symb in enumerate(s2):\n",
    "            s3.append(s1[i])\n",
    "            s3.append(symb)\n",
    "else:\n",
    "    for i, symb in enumerate(s1):\n",
    "            s3.append(symb)\n",
    "            s3.append(s2[i])\n",
    "print(' '.join(s3))\n",
    "            \n",
    "        "
   ]
  },
  {
   "cell_type": "markdown",
   "metadata": {},
   "source": [
    "17.1) Решить задачу, используя функцию ``zip``."
   ]
  },
  {
   "cell_type": "code",
   "execution_count": 9,
   "metadata": {},
   "outputs": [
    {
     "name": "stdout",
     "output_type": "stream",
     "text": [
      "один альфа два бетта три гамма \n"
     ]
    }
   ],
   "source": [
    "#?????\n",
    "s4 = list(zip(s1, s2))\n",
    "s5 = ''\n",
    "for i, J in s4:\n",
    "    s5 += i\n",
    "    s5 += ' '\n",
    "    s5 += J\n",
    "    s5 += ' '\n",
    "print(s5)"
   ]
  },
  {
   "cell_type": "markdown",
   "metadata": {},
   "source": [
    "18) Выполнить циклический сдвиг слов в произвольной строке (слова разделены пробелами) на заданное пользователем число слов.  Решить с помощью списков слов.\n",
    "\n",
    "Например:"
   ]
  },
  {
   "cell_type": "raw",
   "metadata": {},
   "source": [
    "\"один два три четыре пять шесть семь\", 3 -> \"четыре пять шесть семь один два три\""
   ]
  },
  {
   "cell_type": "code",
   "execution_count": 45,
   "metadata": {},
   "outputs": [
    {
     "name": "stdout",
     "output_type": "stream",
     "text": [
      "один два три четыре пять шесть семь\n",
      "Введите количество сдвигов: 3\n",
      "четыре пять шесть семь один два три\n"
     ]
    }
   ],
   "source": [
    "s1 = input().split()\n",
    "s2 = int(input('Введите количество сдвигов: '))\n",
    "s3 = s1[:s2]\n",
    "s1[:s2] = []\n",
    "for i in range(s2):\n",
    "    s1.append(s3[i])\n",
    "print(' '.join(s1))\n",
    "\n",
    "#for i in range(1, s2):\n",
    "    #p = s1[s2-i]\n",
    "    #s1[s2-i] = s1[len(s1)-s2]\n",
    "    #s1[len(s1)-s2] = p\n",
    "#print(' '.join(s1))"
   ]
  },
  {
   "cell_type": "raw",
   "metadata": {},
   "source": [
    "19) В списке целых чисел из диапозона от 1 до 20 заменить все числа, не являющиеся простыми, на составляющие их простые множители (которые включаются в виде вложенного списка на место исключаемого числа). Кратные простые множетели добавлять количество раз, составляющее их кратность в исходном числе.\n",
    "\n",
    "Например:"
   ]
  },
  {
   "cell_type": "raw",
   "metadata": {},
   "source": [
    "[3, 6, 7, 12] -> [3, [2, 3], 7, [2, 2, 3]]"
   ]
  },
  {
   "cell_type": "code",
   "execution_count": 19,
   "metadata": {},
   "outputs": [
    {
     "name": "stdout",
     "output_type": "stream",
     "text": [
      "3 6 7 12\n",
      "['3', [2, 3], '7', [2, 2, 3]]\n"
     ]
    }
   ],
   "source": [
    "s1 = input().split()\n",
    "for i, symb in enumerate(s1):\n",
    "    symb = int(symb)\n",
    "    k = 0\n",
    "    ost = []\n",
    "    pr = 1\n",
    "    for i1 in range(2, int(symb//2)+1):\n",
    "        if symb % i1 == 0:\n",
    "            k += 1\n",
    "        k1 = 0\n",
    "        i2 = i1\n",
    "        while symb % i2 == 0 and pr <= symb:\n",
    "            k1 += 1\n",
    "            pr *= i2\n",
    "            i2 *= i2\n",
    "            ost.append(i1)\n",
    "    if k != 0:\n",
    "        s1[i] = ost\n",
    "print(s1)"
   ]
  },
  {
   "cell_type": "code",
   "execution_count": null,
   "metadata": {},
   "outputs": [],
   "source": [
    "#ничего то, что в списках выводится вместо чисел строки чисел, например, ['3'] вместо [3]?????"
   ]
  }
 ],
 "metadata": {
  "kernelspec": {
   "display_name": "Python 3",
   "language": "python",
   "name": "python3"
  },
  "language_info": {
   "codemirror_mode": {
    "name": "ipython",
    "version": 3
   },
   "file_extension": ".py",
   "mimetype": "text/x-python",
   "name": "python",
   "nbconvert_exporter": "python",
   "pygments_lexer": "ipython3",
   "version": "3.6.5"
  }
 },
 "nbformat": 4,
 "nbformat_minor": 2
}
