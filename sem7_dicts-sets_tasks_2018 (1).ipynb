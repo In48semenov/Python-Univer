{
 "cells": [
  {
   "cell_type": "markdown",
   "metadata": {},
   "source": [
    "# Задания по семинару 7\n",
    "\n",
    "# Словари и множества"
   ]
  },
  {
   "cell_type": "markdown",
   "metadata": {},
   "source": [
    "1) На основе переданной строки (не содержащей повторяющихся символов) создать словарь, в котором каждому символу строки будет соответствовать его номер в строке. Например:"
   ]
  },
  {
   "cell_type": "raw",
   "metadata": {},
   "source": [
    "'abcd' -> {'a': 1, 'b': 2, 'c': 3, 'd': 4}"
   ]
  },
  {
   "cell_type": "code",
   "execution_count": 7,
   "metadata": {},
   "outputs": [
    {
     "name": "stdout",
     "output_type": "stream",
     "text": [
      "abcd\n",
      "{'a': 1, 'b': 2, 'c': 3, 'd': 4}\n"
     ]
    }
   ],
   "source": [
    "s = input()\n",
    "#res = {}\n",
    "#for i, symb in enumerate(s, 1):\n",
    "#       res[symb] = i\n",
    "#print(res)\n",
    "d=dict(zip(s, range(1, len(s)+1)))   \n",
    "print(d)"
   ]
  },
  {
   "cell_type": "markdown",
   "metadata": {},
   "source": [
    "2) Определить, сколько элементов из заданного списка являются ключами в словаре. Например, для"
   ]
  },
  {
   "cell_type": "code",
   "execution_count": 12,
   "metadata": {},
   "outputs": [],
   "source": [
    "lst = ['a', 'c', 'e', 'g', 'i']\n",
    "d = {'a': 1, 'b': 2, 'c': 3, 'd': 4}"
   ]
  },
  {
   "cell_type": "code",
   "execution_count": 13,
   "metadata": {},
   "outputs": [
    {
     "name": "stdout",
     "output_type": "stream",
     "text": [
      "2\n"
     ]
    }
   ],
   "source": [
    "k = 0\n",
    "for i in lst:\n",
    "    if i in d:\n",
    "        k += 1\n",
    "print(k)\n",
    "#len(set(lst) & d.keys())"
   ]
  },
  {
   "cell_type": "markdown",
   "metadata": {},
   "source": [
    "ответ: 2."
   ]
  },
  {
   "cell_type": "markdown",
   "metadata": {},
   "source": [
    "3) Для строки ``evgene_o`` создать словарь, где для всех символов, встречающихся в строке хранится число: сколько раз символ встретился в строке ``evgene_o``."
   ]
  },
  {
   "cell_type": "code",
   "execution_count": 41,
   "metadata": {},
   "outputs": [],
   "source": [
    "evgene_o = \"\"\"My uncle -- high ideals inspire him;\n",
    "     but when past joking he fell sick,\n",
    "     he really forced one to admire him --\n",
    "     and never played a shrewder trick.\n",
    "     Let others learn from his example!\n",
    "     But God, how deadly dull to sample\n",
    "     sickroom attendance night and day\n",
    "     and never stir a foot away!\n",
    "     And the sly baseness, fit to throttle,\n",
    "     of entertaining the half-dead:\n",
    "     one smoothes the pillows down in bed,\n",
    "     and glumly serves the medicine bottle,\n",
    "     and sighs, and asks oneself all through:\n",
    "     When will the devil come for you?\n",
    "     \n",
    "     Such were a young rake's meditations --\n",
    "     by will of Zeus, the high and just,\n",
    "     the legatee of his relations --\n",
    "     as horses whirled him through the dust.\n",
    "     Friends of my Ruslan and Lyudmila,\n",
    "     without preliminary feeler\n",
    "     let me acquaint you on the nail\n",
    "     with this the hero of my tale:\n",
    "     Onegin, my good friend, was littered\n",
    "     and bred upon the Neva's brink,\n",
    "     where you were born as well, I think,\n",
    "     reader, or where you've shone and glittered!\n",
    "     There once I too strolled back and forth:\n",
    "     but I'm allergic to the North...\"\"\""
   ]
  },
  {
   "cell_type": "code",
   "execution_count": 42,
   "metadata": {},
   "outputs": [
    {
     "name": "stdout",
     "output_type": "stream",
     "text": [
      "{'M': 1, 'y': 19, ' ': 294, 'u': 22, 'n': 51, 'c': 13, 'l': 47, 'e': 102, '-': 9, 'h': 51, 'i': 48, 'g': 15, 'd': 41, 'a': 52, 's': 42, 'p': 8, 'r': 47, 'm': 20, ';': 1, '\\n': 28, 'b': 10, 't': 61, 'w': 17, 'j': 2, 'o': 55, 'k': 9, 'f': 16, ',': 16, 'v': 6, '.': 5, 'L': 2, 'x': 1, '!': 3, 'B': 1, 'G': 1, 'A': 1, ':': 4, 'W': 1, '?': 1, 'S': 1, \"'\": 4, 'Z': 1, 'F': 1, 'R': 1, 'q': 1, 'O': 1, 'N': 2, 'I': 3, 'T': 1}\n"
     ]
    }
   ],
   "source": [
    "d = dict()\n",
    "for symb in evgene_o:\n",
    "    if symb in d:\n",
    "        d[symb] += 1\n",
    "    else:\n",
    "        d[symb] = 1\n",
    "print(d)"
   ]
  },
  {
   "cell_type": "markdown",
   "metadata": {},
   "source": [
    "4) Используя словарь, полученный в задаче 3), посчитать количество строчных букв в строке ``evgene_o``."
   ]
  },
  {
   "cell_type": "code",
   "execution_count": 21,
   "metadata": {},
   "outputs": [
    {
     "name": "stdout",
     "output_type": "stream",
     "text": [
      "756\n"
     ]
    }
   ],
   "source": [
    "q = 0\n",
    "for k, v in d.items():\n",
    "    if k.islower(): #кольичество строчных букв\n",
    "        q += v\n",
    "print(q)"
   ]
  },
  {
   "cell_type": "markdown",
   "metadata": {},
   "source": [
    "5) Даны словари ``dict1``, ``dict2``, ``dict3``."
   ]
  },
  {
   "cell_type": "code",
   "execution_count": 23,
   "metadata": {},
   "outputs": [],
   "source": [
    "dict1 = {1: 10, 2: 20}\n",
    "dict2 = {3: 30, 4: 40}\n",
    "dict3 = {5: 50, 6: 60}"
   ]
  },
  {
   "cell_type": "code",
   "execution_count": 24,
   "metadata": {},
   "outputs": [],
   "source": [
    "d4 = {}"
   ]
  },
  {
   "cell_type": "code",
   "execution_count": 25,
   "metadata": {},
   "outputs": [
    {
     "name": "stdout",
     "output_type": "stream",
     "text": [
      "{1: 10, 2: 20, 3: 30, 4: 40, 5: 50, 6: 60}\n"
     ]
    }
   ],
   "source": [
    "d4.update(dict1)\n",
    "d4.update(dict2)\n",
    "d4.update(dict3)\n",
    "print(d4)"
   ]
  },
  {
   "cell_type": "markdown",
   "metadata": {},
   "source": [
    "Создать новый словарь с именем ``dict4``, содержащий все пары ключ-значение из словарей ``dict1``, ``dict2``, ``dict3``."
   ]
  },
  {
   "cell_type": "markdown",
   "metadata": {},
   "source": [
    "6) Просуммировать все значения из словаря ``dict4``, полученного в задаче 5)."
   ]
  },
  {
   "cell_type": "code",
   "execution_count": 27,
   "metadata": {},
   "outputs": [
    {
     "name": "stdout",
     "output_type": "stream",
     "text": [
      "210\n"
     ]
    }
   ],
   "source": [
    "s = 0\n",
    "for i in d4.values():\n",
    "    s += i\n",
    "print(s)\n",
    "#sum(d4.values())"
   ]
  },
  {
   "cell_type": "markdown",
   "metadata": {},
   "source": [
    "7) Перемножить все значения из словаря ``dict4``, полученного в задаче 5)."
   ]
  },
  {
   "cell_type": "code",
   "execution_count": 28,
   "metadata": {},
   "outputs": [
    {
     "name": "stdout",
     "output_type": "stream",
     "text": [
      "720000000\n"
     ]
    }
   ],
   "source": [
    "pr = 1\n",
    "for i in d4.values():\n",
    "    pr *= i\n",
    "print(pr)"
   ]
  },
  {
   "cell_type": "markdown",
   "metadata": {},
   "source": [
    "8) Просуммировать произведения ключей на соответствующие им значения из словаря ``dict4``, полученного в задаче 5)."
   ]
  },
  {
   "cell_type": "code",
   "execution_count": 29,
   "metadata": {},
   "outputs": [
    {
     "name": "stdout",
     "output_type": "stream",
     "text": [
      "910\n"
     ]
    }
   ],
   "source": [
    "res = 0\n",
    "for k, v in d4.items():\n",
    "    res += k*v\n",
    "print(res)"
   ]
  },
  {
   "cell_type": "markdown",
   "metadata": {},
   "source": [
    "9) На базе словаря ``dict1`` создать словарь ``dict3``, в котором нет пар ключ-значение с ключами, встречающимися в словаре ``dict2``."
   ]
  },
  {
   "cell_type": "code",
   "execution_count": 2,
   "metadata": {},
   "outputs": [],
   "source": [
    "dict1 = {'a': 3, 'b': 4, 'c': 5, 'd': 6, 'e': 7, 'f': 8, 'g': 9}\n",
    "dict2 = {'e': 20, 'f': 21, 'g': 22, 'h': 23, 'i': 24, 'j': 25, 'k': 26, 'l': 27}"
   ]
  },
  {
   "cell_type": "code",
   "execution_count": 3,
   "metadata": {},
   "outputs": [
    {
     "name": "stdout",
     "output_type": "stream",
     "text": [
      "{'c': 5, 'a': 3, 'b': 4, 'd': 6}\n"
     ]
    }
   ],
   "source": [
    "dict3 = dict()\n",
    "for i in dict1.keys() - dict2.keys():\n",
    "    dict3[i] = dict1[i]\n",
    "print(dict3)"
   ]
  },
  {
   "cell_type": "code",
   "execution_count": 4,
   "metadata": {},
   "outputs": [
    {
     "name": "stdout",
     "output_type": "stream",
     "text": [
      "{'a': 3, 'b': 4, 'c': 5, 'd': 6}\n"
     ]
    }
   ],
   "source": [
    "#другое решение\n",
    "d3 = dict()\n",
    "for i in dict1.keys():\n",
    "    if i not in dict2:\n",
    "        d3[i] = dict1[i]\n",
    "print(d3)"
   ]
  },
  {
   "cell_type": "markdown",
   "metadata": {},
   "source": [
    "Ответ:"
   ]
  },
  {
   "cell_type": "raw",
   "metadata": {},
   "source": [
    "dict3 = {'a': 3, 'b': 4, 'c': 5, 'd': 6}"
   ]
  },
  {
   "cell_type": "markdown",
   "metadata": {},
   "source": [
    "10) Создать словарь ``dict3``, в котором есть все пары ключ-значения из ``dict1`` из задачи 9), и дополнить его парами ключ-значение из словаря ``dict2``, которые отсутствуют в ``dict1``."
   ]
  },
  {
   "cell_type": "code",
   "execution_count": 22,
   "metadata": {},
   "outputs": [
    {
     "name": "stdout",
     "output_type": "stream",
     "text": [
      "{'a': 3, 'b': 4, 'c': 5, 'd': 6, 'e': 7, 'f': 8, 'g': 9, 'h': 23, 'i': 24, 'j': 25, 'k': 26, 'l': 27}\n"
     ]
    }
   ],
   "source": [
    "dict1 = {'a': 3, 'b': 4, 'c': 5, 'd': 6, 'e': 7, 'f': 8, 'g': 9}\n",
    "dict2 = {'e': 20, 'f': 21, 'g': 22, 'h': 23, 'i': 24, 'j': 25, 'k': 26, 'l': 27}\n",
    "dict3 = dict()\n",
    "for i in dict1.keys():\n",
    "    dict3[i] = dict1[i]\n",
    "for i in dict2.keys():\n",
    "    dict3.setdefault(i, dict2[i])\n",
    "print(dict3)\n"
   ]
  },
  {
   "cell_type": "markdown",
   "metadata": {},
   "source": [
    "Ответ:"
   ]
  },
  {
   "cell_type": "raw",
   "metadata": {},
   "source": [
    "{'a': 3, 'b': 4, 'c': 5, 'd': 6, 'e': 7, 'f': 8, 'g': 9, 'h': 23, 'i': 24, 'j': 25, 'k': 26, 'l': 27}"
   ]
  },
  {
   "cell_type": "markdown",
   "metadata": {},
   "source": [
    "11) Создать словарь ``dict3``, в котором по ключам, одновреммено присутствующим и в ``dict1``, и в ``dict2`` из задачи 9), разместить разность соответствующих значений."
   ]
  },
  {
   "cell_type": "code",
   "execution_count": 28,
   "metadata": {},
   "outputs": [
    {
     "name": "stdout",
     "output_type": "stream",
     "text": [
      "{'e': -13, 'f': -13, 'g': -13}\n"
     ]
    }
   ],
   "source": [
    "dict1 = {'a': 3, 'b': 4, 'c': 5, 'd': 6, 'e': 7, 'f': 8, 'g': 9}\n",
    "dict2 = {'e': 20, 'f': 21, 'g': 22, 'h': 23, 'i': 24, 'j': 25, 'k': 26, 'l': 27}\n",
    "dict3 = {}\n",
    "for i in dict1.keys():\n",
    "    if i in dict2:\n",
    "        dict3[i] = dict1[i] - dict2[i]\n",
    "print(dict3)"
   ]
  },
  {
   "cell_type": "markdown",
   "metadata": {},
   "source": [
    "Ответ:"
   ]
  },
  {
   "cell_type": "raw",
   "metadata": {},
   "source": [
    "{'e': -13, 'f': -13, 'g': -13}"
   ]
  },
  {
   "cell_type": "markdown",
   "metadata": {},
   "source": [
    "12) Из списка ``ri1`` получить упорядоченный по возрастанию список, не имеющий повторяющихся значений."
   ]
  },
  {
   "cell_type": "code",
   "execution_count": 40,
   "metadata": {},
   "outputs": [
    {
     "name": "stdout",
     "output_type": "stream",
     "text": [
      "[15, 4, 1, 6, 3, 12, 11, 1, 6, 5, 10, 8, 4, 5, 13, 15, 3, 6, 10, 8, 5, 15, 3, 11, 11, 11, 5, 5, 4, 5]\n",
      "[1, 3, 4, 5, 6, 8, 10, 11, 12, 13, 15]\n"
     ]
    }
   ],
   "source": [
    "import random\n",
    "\n",
    "ri1 = [random.randint(1, 15) for _ in range(30)]\n",
    "print(ri1)\n",
    "\n",
    "i1 = set(sorted(ri1))\n",
    "print(list(i1))\n"
   ]
  },
  {
   "cell_type": "markdown",
   "metadata": {},
   "source": [
    "13) В словаре, полученном в задаче 3), удалить (в том же самом словере, не создавая новый) все пары ключ-значения для символов, встречающихся менее 5 раз."
   ]
  },
  {
   "cell_type": "code",
   "execution_count": 45,
   "metadata": {},
   "outputs": [
    {
     "name": "stdout",
     "output_type": "stream",
     "text": [
      "{'y': 19, ' ': 294, 'u': 22, 'n': 51, 'c': 13, 'l': 47, 'e': 102, '-': 9, 'h': 51, 'i': 48, 'g': 15, 'd': 41, 'a': 52, 's': 42, 'p': 8, 'r': 47, 'm': 20, '\\n': 28, 'b': 10, 't': 61, 'w': 17, 'o': 55, 'k': 9, 'f': 16, ',': 16, 'v': 6, '.': 5}\n"
     ]
    }
   ],
   "source": [
    "for k, v in list(d.items()):\n",
    "    if v < 5:\n",
    "        del d[k]\n",
    "print(d)"
   ]
  },
  {
   "cell_type": "markdown",
   "metadata": {},
   "source": [
    "14) Дан словарь. На его основе создать новый словарь, в котором ключи и значения поменяны местами. Например:"
   ]
  },
  {
   "cell_type": "code",
   "execution_count": 53,
   "metadata": {},
   "outputs": [
    {
     "name": "stdout",
     "output_type": "stream",
     "text": [
      "{1: 'a', 2: 'b', 3: 'c', 4: 'd'}\n"
     ]
    }
   ],
   "source": [
    "dic = {}\n",
    "dict1 = {'a': 1, 'b': 2, 'c': 3, 'd': 4}\n",
    "for k, v in dict1.items():\n",
    "    dic[v] = k\n",
    "print(dic)"
   ]
  },
  {
   "cell_type": "raw",
   "metadata": {},
   "source": [
    "{'a': 1, 'b': 2, 'c': 3, 'd': 4} -> {1: 'a', 2: 'b', 3: 'c', 4: 'd'}"
   ]
  },
  {
   "cell_type": "markdown",
   "metadata": {},
   "source": [
    "15) Составить программу **\"Мешок\"**. Программа раз за разом запрашивает у пользователя новые значения и \"кладет их в мешок\". Если полученное значение уже есть в мешке, то оно не помещается в мешок, а пользователю сообщается о том, что такое значение уже есть в мешке. Максимальное количество значений в мешке - 5 штук. Если помещение в мешок очередного значения приводит к его переполнению, то из него извлекается одно из хранившихся в нем ранее значений и предъявляется пользователю. Для того чтобы выйти из программы, пользователь вводит \"Exit\" При выходе из программы пользователю демонстрируется содержимое мешка.\n",
    "\n",
    "15.1\\*) Дополнительная опция: пользователь может вводить сразу несколько значений, разделенных запятой."
   ]
  },
  {
   "cell_type": "code",
   "execution_count": 1,
   "metadata": {},
   "outputs": [
    {
     "name": "stdout",
     "output_type": "stream",
     "text": [
      "Введите значение: М\n",
      "Введите значение: М\n",
      "Введённое значение есть в мешке!!!\n",
      "Введите значение: е\n",
      "Введите значение: ш\n",
      "Введите значение: ш\n",
      "Введённое значение есть в мешке!!!\n",
      "Введите значение: о\n",
      "Введите значение: р\n",
      "Введите значение: к\n",
      "Извлечём: р\n",
      "Введите значение: Exit\n",
      "{1: 'М', 2: 'е', 3: 'ш', 4: 'о', 5: 'к'}\n"
     ]
    }
   ],
   "source": [
    "i = 1\n",
    "d = dict()\n",
    "while True:\n",
    "    z = input('Введите значение: ')\n",
    "    if z != \"Exit\":\n",
    "        if z in set(d.values()):\n",
    "            print('Введённое значение есть в мешке!!!')\n",
    "            continue\n",
    "        elif i < 6:\n",
    "            d[i] = z\n",
    "            i += 1\n",
    "        else:\n",
    "            print('Извлечём:', d[i-1])\n",
    "            d[i-1] = z\n",
    "    else:\n",
    "        print(d)\n",
    "        break\n",
    "    "
   ]
  },
  {
   "cell_type": "code",
   "execution_count": 7,
   "metadata": {},
   "outputs": [
    {
     "name": "stdout",
     "output_type": "stream",
     "text": [
      "Введите значение: М, е, е\n",
      "Введённое значение есть в мешке!!!\n",
      "Введите значение: ш\n",
      "Введите значение: о\n",
      "Введите значение: ш\n",
      "Введённое значение есть в мешке!!!\n",
      "Введите значение: М\n",
      "Введённое значение есть в мешке!!!\n",
      "Введите значение: р\n",
      "Введите значение: к\n",
      "Извлечём: р\n",
      "Введите значение: Exit\n",
      "{1: 'М', 2: 'е', 3: 'ш', 4: 'о', 5: 'к'}\n"
     ]
    }
   ],
   "source": [
    "i = 1\n",
    "d = dict()\n",
    "while True:\n",
    "    z = input('Введите значение: ')\n",
    "    if z != \"Exit\":\n",
    "        z = z.split(', ')\n",
    "        for k in range(len(z)):\n",
    "            if z[k] in set(d.values()):\n",
    "                print('Введённое значение есть в мешке!!!')\n",
    "                continue\n",
    "            elif i < 6:\n",
    "                d[i] = z[k]\n",
    "                i += 1\n",
    "            else:\n",
    "                print('Извлечём:', d[i-1])\n",
    "                d[i-1] = z[k]\n",
    "    else:\n",
    "        print(d)\n",
    "        break"
   ]
  },
  {
   "cell_type": "code",
   "execution_count": null,
   "metadata": {},
   "outputs": [],
   "source": []
  }
 ],
 "metadata": {
  "kernelspec": {
   "display_name": "Python 3",
   "language": "python",
   "name": "python3"
  },
  "language_info": {
   "codemirror_mode": {
    "name": "ipython",
    "version": 3
   },
   "file_extension": ".py",
   "mimetype": "text/x-python",
   "name": "python",
   "nbconvert_exporter": "python",
   "pygments_lexer": "ipython3",
   "version": "3.6.5"
  }
 },
 "nbformat": 4,
 "nbformat_minor": 2
}
